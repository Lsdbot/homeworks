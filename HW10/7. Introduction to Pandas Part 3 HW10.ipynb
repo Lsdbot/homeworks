{
 "cells": [
  {
   "cell_type": "markdown",
   "metadata": {},
   "source": [
    "# Pandas. Доверительный интервал. Меры различий"
   ]
  },
  {
   "cell_type": "code",
   "execution_count": 72,
   "metadata": {},
   "outputs": [],
   "source": [
    "import numpy as np\n",
    "import pandas as pd\n",
    "import scipy.stats as stats\n",
    "\n",
    "import seaborn as sns\n",
    "import matplotlib.pyplot as plt\n",
    "\n",
    "from typing import Callable"
   ]
  },
  {
   "cell_type": "markdown",
   "metadata": {},
   "source": [
    "1) Загрузка и первичная предобработка\n",
    "\n",
    "- Загрузить данные **orders.csv** и **visitors.csv** в датафреймы и записать в соответвующие переменные **orders** и **visitors**\n",
    "- При считывании обоих файлов при помощи read_csv() установите параметр parse_dates=['date'] для перевода даты из типа str в Timestamp\n",
    "- Удалить пересечения по клиентам (visitorId) в группе A и B (код можно взять из лекции, таблицу visitors не трогать в этом случае!) и записать результат в переменную **orders**\n",
    "\n",
    "ВСЕ ПРИМЕРЫ ЕСТЬ В ЛЕКЦИИ"
   ]
  },
  {
   "cell_type": "code",
   "execution_count": 16,
   "metadata": {},
   "outputs": [
    {
     "data": {
      "text/html": [
       "<div>\n",
       "<style scoped>\n",
       "    .dataframe tbody tr th:only-of-type {\n",
       "        vertical-align: middle;\n",
       "    }\n",
       "\n",
       "    .dataframe tbody tr th {\n",
       "        vertical-align: top;\n",
       "    }\n",
       "\n",
       "    .dataframe thead th {\n",
       "        text-align: right;\n",
       "    }\n",
       "</style>\n",
       "<table border=\"1\" class=\"dataframe\">\n",
       "  <thead>\n",
       "    <tr style=\"text-align: right;\">\n",
       "      <th></th>\n",
       "      <th>transactionId</th>\n",
       "      <th>visitorId</th>\n",
       "      <th>date</th>\n",
       "      <th>revenue</th>\n",
       "      <th>group</th>\n",
       "    </tr>\n",
       "  </thead>\n",
       "  <tbody>\n",
       "    <tr>\n",
       "      <th>0</th>\n",
       "      <td>0</td>\n",
       "      <td>0</td>\n",
       "      <td>2021-03-15</td>\n",
       "      <td>1633</td>\n",
       "      <td>B</td>\n",
       "    </tr>\n",
       "    <tr>\n",
       "      <th>1</th>\n",
       "      <td>1</td>\n",
       "      <td>1</td>\n",
       "      <td>2021-03-15</td>\n",
       "      <td>659</td>\n",
       "      <td>B</td>\n",
       "    </tr>\n",
       "    <tr>\n",
       "      <th>2</th>\n",
       "      <td>2</td>\n",
       "      <td>1070</td>\n",
       "      <td>2021-03-15</td>\n",
       "      <td>411</td>\n",
       "      <td>A</td>\n",
       "    </tr>\n",
       "    <tr>\n",
       "      <th>3</th>\n",
       "      <td>3</td>\n",
       "      <td>3</td>\n",
       "      <td>2021-03-15</td>\n",
       "      <td>9688</td>\n",
       "      <td>B</td>\n",
       "    </tr>\n",
       "    <tr>\n",
       "      <th>4</th>\n",
       "      <td>4</td>\n",
       "      <td>4</td>\n",
       "      <td>2021-03-15</td>\n",
       "      <td>2221</td>\n",
       "      <td>B</td>\n",
       "    </tr>\n",
       "  </tbody>\n",
       "</table>\n",
       "</div>"
      ],
      "text/plain": [
       "   transactionId  visitorId       date  revenue group\n",
       "0              0          0 2021-03-15     1633     B\n",
       "1              1          1 2021-03-15      659     B\n",
       "2              2       1070 2021-03-15      411     A\n",
       "3              3          3 2021-03-15     9688     B\n",
       "4              4          4 2021-03-15     2221     B"
      ]
     },
     "execution_count": 16,
     "metadata": {},
     "output_type": "execute_result"
    }
   ],
   "source": [
    "# ваш код\n",
    "orders = pd.read_csv(\"orders.csv\", parse_dates=['date'])\n",
    "visitors = pd.read_csv(\"visitors.csv\", parse_dates=['date'])\n",
    "\n",
    "orders[:5]"
   ]
  },
  {
   "cell_type": "code",
   "execution_count": 15,
   "metadata": {},
   "outputs": [],
   "source": [
    "unique_A = orders[orders[\"group\"] == \"A\"][\"visitorId\"].unique()\n",
    "unique_B = orders[orders[\"group\"] == \"B\"][\"visitorId\"].unique()\n",
    "\n",
    "orders = [~orders[\"visitorId\"].isin(np.intersect1d(unique_A, unique_B))]"
   ]
  },
  {
   "cell_type": "markdown",
   "metadata": {},
   "source": [
    "2) Создать новую таблицу **orders_group**, произведя группировку таблицы **orders** по полям 'date', 'group' и подсчитав: \n",
    "- кол-во уникальных транзакций\n",
    "- кол-во уникальных клиентов\n",
    "- сумму прибыли revenue \n",
    "\n",
    "Далее объединить получившийся датасет после группировки с таблицей **visitors** по полям 'date' и 'group' и записать в переменную **orders_group**\n",
    "\n",
    "ВСЕ ПРИМЕРЫ ЕСТЬ В ЛЕКЦИИ"
   ]
  },
  {
   "cell_type": "code",
   "execution_count": 27,
   "metadata": {},
   "outputs": [
    {
     "data": {
      "text/html": [
       "<div>\n",
       "<style scoped>\n",
       "    .dataframe tbody tr th:only-of-type {\n",
       "        vertical-align: middle;\n",
       "    }\n",
       "\n",
       "    .dataframe tbody tr th {\n",
       "        vertical-align: top;\n",
       "    }\n",
       "\n",
       "    .dataframe thead th {\n",
       "        text-align: right;\n",
       "    }\n",
       "</style>\n",
       "<table border=\"1\" class=\"dataframe\">\n",
       "  <thead>\n",
       "    <tr style=\"text-align: right;\">\n",
       "      <th></th>\n",
       "      <th>date</th>\n",
       "      <th>group</th>\n",
       "      <th>trans_count</th>\n",
       "      <th>vis_count</th>\n",
       "      <th>revenue</th>\n",
       "      <th>visitors</th>\n",
       "    </tr>\n",
       "  </thead>\n",
       "  <tbody>\n",
       "    <tr>\n",
       "      <th>0</th>\n",
       "      <td>2021-03-01</td>\n",
       "      <td>A</td>\n",
       "      <td>24</td>\n",
       "      <td>20</td>\n",
       "      <td>147184</td>\n",
       "      <td>682</td>\n",
       "    </tr>\n",
       "    <tr>\n",
       "      <th>1</th>\n",
       "      <td>2021-03-01</td>\n",
       "      <td>B</td>\n",
       "      <td>21</td>\n",
       "      <td>20</td>\n",
       "      <td>100522</td>\n",
       "      <td>631</td>\n",
       "    </tr>\n",
       "    <tr>\n",
       "      <th>2</th>\n",
       "      <td>2021-03-02</td>\n",
       "      <td>A</td>\n",
       "      <td>20</td>\n",
       "      <td>19</td>\n",
       "      <td>93141</td>\n",
       "      <td>564</td>\n",
       "    </tr>\n",
       "    <tr>\n",
       "      <th>3</th>\n",
       "      <td>2021-03-02</td>\n",
       "      <td>B</td>\n",
       "      <td>24</td>\n",
       "      <td>23</td>\n",
       "      <td>164593</td>\n",
       "      <td>560</td>\n",
       "    </tr>\n",
       "    <tr>\n",
       "      <th>4</th>\n",
       "      <td>2021-03-03</td>\n",
       "      <td>A</td>\n",
       "      <td>24</td>\n",
       "      <td>24</td>\n",
       "      <td>111486</td>\n",
       "      <td>410</td>\n",
       "    </tr>\n",
       "  </tbody>\n",
       "</table>\n",
       "</div>"
      ],
      "text/plain": [
       "        date group  trans_count  vis_count  revenue  visitors\n",
       "0 2021-03-01     A           24         20   147184       682\n",
       "1 2021-03-01     B           21         20   100522       631\n",
       "2 2021-03-02     A           20         19    93141       564\n",
       "3 2021-03-02     B           24         23   164593       560\n",
       "4 2021-03-03     A           24         24   111486       410"
      ]
     },
     "execution_count": 27,
     "metadata": {},
     "output_type": "execute_result"
    }
   ],
   "source": [
    "orders_group = orders.groupby([\"date\", \"group\"]).agg(\n",
    "    {\"transactionId\": \"nunique\", \"visitorId\": \"nunique\", \"revenue\": \"sum\"})\n",
    "\n",
    "orders_group = pd.merge(orders_group, visitors, on=[\"date\", \"group\"])\n",
    "orders_group[:5]\n",
    "\n",
    "orders_group.rename(\n",
    "    columns={\"transactionId\": \"trans_count\", \"visitorId\": \"vis_count\"}, inplace=True)\n",
    "orders_group[:5]"
   ]
  },
  {
   "cell_type": "markdown",
   "metadata": {},
   "source": [
    "3) Создайте новую колонку **purchase_mean** в таблице **orders_group** - средний чек, разделив сумму дохода на кол-во уникальных транзакци (пример в лекции)"
   ]
  },
  {
   "cell_type": "code",
   "execution_count": 30,
   "metadata": {},
   "outputs": [
    {
     "data": {
      "text/html": [
       "<div>\n",
       "<style scoped>\n",
       "    .dataframe tbody tr th:only-of-type {\n",
       "        vertical-align: middle;\n",
       "    }\n",
       "\n",
       "    .dataframe tbody tr th {\n",
       "        vertical-align: top;\n",
       "    }\n",
       "\n",
       "    .dataframe thead th {\n",
       "        text-align: right;\n",
       "    }\n",
       "</style>\n",
       "<table border=\"1\" class=\"dataframe\">\n",
       "  <thead>\n",
       "    <tr style=\"text-align: right;\">\n",
       "      <th></th>\n",
       "      <th>date</th>\n",
       "      <th>group</th>\n",
       "      <th>trans_count</th>\n",
       "      <th>vis_count</th>\n",
       "      <th>revenue</th>\n",
       "      <th>visitors</th>\n",
       "      <th>purchase_mean</th>\n",
       "    </tr>\n",
       "  </thead>\n",
       "  <tbody>\n",
       "    <tr>\n",
       "      <th>0</th>\n",
       "      <td>2021-03-01</td>\n",
       "      <td>A</td>\n",
       "      <td>24</td>\n",
       "      <td>20</td>\n",
       "      <td>147184</td>\n",
       "      <td>682</td>\n",
       "      <td>6132.67</td>\n",
       "    </tr>\n",
       "    <tr>\n",
       "      <th>1</th>\n",
       "      <td>2021-03-01</td>\n",
       "      <td>B</td>\n",
       "      <td>21</td>\n",
       "      <td>20</td>\n",
       "      <td>100522</td>\n",
       "      <td>631</td>\n",
       "      <td>4786.76</td>\n",
       "    </tr>\n",
       "    <tr>\n",
       "      <th>2</th>\n",
       "      <td>2021-03-02</td>\n",
       "      <td>A</td>\n",
       "      <td>20</td>\n",
       "      <td>19</td>\n",
       "      <td>93141</td>\n",
       "      <td>564</td>\n",
       "      <td>4657.05</td>\n",
       "    </tr>\n",
       "    <tr>\n",
       "      <th>3</th>\n",
       "      <td>2021-03-02</td>\n",
       "      <td>B</td>\n",
       "      <td>24</td>\n",
       "      <td>23</td>\n",
       "      <td>164593</td>\n",
       "      <td>560</td>\n",
       "      <td>6858.04</td>\n",
       "    </tr>\n",
       "    <tr>\n",
       "      <th>4</th>\n",
       "      <td>2021-03-03</td>\n",
       "      <td>A</td>\n",
       "      <td>24</td>\n",
       "      <td>24</td>\n",
       "      <td>111486</td>\n",
       "      <td>410</td>\n",
       "      <td>4645.25</td>\n",
       "    </tr>\n",
       "  </tbody>\n",
       "</table>\n",
       "</div>"
      ],
      "text/plain": [
       "        date group  trans_count  vis_count  revenue  visitors  purchase_mean\n",
       "0 2021-03-01     A           24         20   147184       682        6132.67\n",
       "1 2021-03-01     B           21         20   100522       631        4786.76\n",
       "2 2021-03-02     A           20         19    93141       564        4657.05\n",
       "3 2021-03-02     B           24         23   164593       560        6858.04\n",
       "4 2021-03-03     A           24         24   111486       410        4645.25"
      ]
     },
     "execution_count": 30,
     "metadata": {},
     "output_type": "execute_result"
    }
   ],
   "source": [
    "orders_group[\"purchase_mean\"] = (\n",
    "    orders_group[\"revenue\"]/orders_group[\"trans_count\"]).round(2)\n",
    "orders_group[:5]"
   ]
  },
  {
   "cell_type": "markdown",
   "metadata": {},
   "source": [
    "4) Создайте две переменные **orders_group_a** и **orders_group_b**, куда запишите данные группы А и группы B соответственно (пример в лекции)"
   ]
  },
  {
   "cell_type": "code",
   "execution_count": 31,
   "metadata": {},
   "outputs": [],
   "source": [
    "# ваш код\n",
    "orders_group_a = orders_group[orders_group[\"group\"] == \"A\"]\n",
    "orders_group_b = orders_group[orders_group[\"group\"] == \"B\"]"
   ]
  },
  {
   "cell_type": "markdown",
   "metadata": {},
   "source": [
    "5) Построить графики распределений (histplot) среднего чека отдельно для A и B групп.\n",
    "\n",
    "Отобразить графики **в ОДНОЙ строке, но в РАЗНЫХ столбцах и с РАЗНЫМИ цветами**"
   ]
  },
  {
   "cell_type": "code",
   "execution_count": 41,
   "metadata": {},
   "outputs": [
    {
     "data": {
      "text/plain": [
       "<AxesSubplot: xlabel='purchase_mean', ylabel='Count'>"
      ]
     },
     "execution_count": 41,
     "metadata": {},
     "output_type": "execute_result"
    },
    {
     "data": {
      "image/png": "[encoded data removed]",
      "text/plain": [
       "<Figure size 1200x500 with 2 Axes>"
      ]
     },
     "metadata": {},
     "output_type": "display_data"
    }
   ],
   "source": [
    "fig, axes = plt.subplots(ncols=2, figsize = (12,5))\n",
    "\n",
    "sns.histplot(orders_group_a[\"purchase_mean\"], kde=True, ax=axes[0])\n",
    "sns.histplot(orders_group_b[\"purchase_mean\"], kde=True, ax=axes[1])"
   ]
  },
  {
   "cell_type": "markdown",
   "metadata": {},
   "source": [
    "6) Проверка на нормальность:\n",
    "\n",
    "- Напишите функцию для проверки на нормальность по критерию Шапиро-Уилка, которая будет выводить **относится ли распределение к нормальному или не**т, а также **выводить значение p-value с 3мя знаками после запятой**\n",
    "\n",
    "- Проверьте распределения среднего чека (признак purchase_mean) **для группы A** на нормальность с использованием написанной функции\n",
    "- Проверьте распределения среднего чека (признак purchase_mean) **для группы B** на нормальность с использованием написанной функции"
   ]
  },
  {
   "cell_type": "code",
   "execution_count": 54,
   "metadata": {},
   "outputs": [
    {
     "name": "stdout",
     "output_type": "stream",
     "text": [
      "31\n",
      "Ненормальное распределение\n",
      "0.002\n",
      "Ненормальное распределение\n",
      "0.0\n"
     ]
    }
   ],
   "source": [
    "def check_norm(sample: pd.Series) -> None:\n",
    "    \"\"\"\n",
    "    Проверка выборки на нормальность критерием Шапиро-Уилка\n",
    "    \"\"\"\n",
    "    p_value = stats.shapiro(sample).pvalue\n",
    "    \n",
    "    if p_value > 0.05:\n",
    "        print(f\"Нормальное распределение\\n{round(p_value, 3)}\")\n",
    "    else:\n",
    "        print(f\"Ненормальное распределение\\n{round(p_value, 3)}\")\n",
    "\n",
    "check_norm(orders_group_a[\"purchase_mean\"].values)\n",
    "check_norm(orders_group_b[\"purchase_mean\"].values)"
   ]
  },
  {
   "cell_type": "markdown",
   "metadata": {},
   "source": [
    "7) Напишите функцию **get_interval()** (пока без применения), которая бы:\n",
    "\n",
    "- вычисляла доверительный интервал **при помощи z критерия** при известной дисперсии\n",
    "- вычисляла доверительный интервал **при помощи t-критерия**, если дисперсия неизвестна\n",
    "- выводила как и сам интервал, так и условие: известна дисперсия, либо не известна\n",
    "- также нужно учесть, что функция должна принимать на вход:\n",
    "    - данные\n",
    "    - дисперсию (при известной дисперсии) - по умолчанию = None\n",
    "    - уровень доверия по умолчанию $\\beta=0.95$ **здесь аккуратнее!!** см в лекции почему\n",
    "    \n",
    "У вас должна получиться **ОДНА функция**, которая вычисляет интервал для разных случаев"
   ]
  },
  {
   "cell_type": "code",
   "execution_count": 65,
   "metadata": {
    "code_folding": []
   },
   "outputs": [],
   "source": [
    "def get_interval(sample: pd.Series, D: float = None, beta: float = 0.95) -> None:\n",
    "    \"\"\"\n",
    "    Вывод доверительного интервала для выборки\n",
    "    \"\"\"\n",
    "    if D == None:\n",
    "        s = stats.sem(sample, ddof=1)\n",
    "        t_value = stats.t.ppf((1+beta)/2, sample.shape[0])\n",
    "        intervals = (sample.mean() - t_value*s, sample.mean() + t_value*s)\n",
    "        print(f\"Дисперсия не известна\\n{intervals}\")\n",
    "    else:\n",
    "        std = stats.sem(sample, ddof=0)\n",
    "        z_value = stats.norm.ppf(q=(1+beta)/2)\n",
    "        intervals = (sample.mean() - z_value*std, sample.mean() + z_value*std)\n",
    "        print(f\"Дисперсия известна\\n{intervals}\")"
   ]
  },
  {
   "cell_type": "markdown",
   "metadata": {},
   "source": [
    "8) Найти доверительные интервалы **для каждой из групп A и B по отдельности** при помощи написанной функции **get_interval()** из задания №7 для признака **purchase_mean** при уровне доверия $\\beta=0.99$%!!!:\n",
    "   - при известной дисперсии\n",
    "\n",
    "- За известную дисперсию возьмите значение для группы A = 11088900\n",
    "- За известную дисперсию возьмите значение для группы B = 122102500\n",
    "\n",
    "\n",
    "**Будьте внимательны** в лекции брали пример с 95%, то с каждой стороны мы брали по 2.5%"
   ]
  },
  {
   "cell_type": "code",
   "execution_count": 67,
   "metadata": {},
   "outputs": [
    {
     "name": "stdout",
     "output_type": "stream",
     "text": [
      "Дисперсия известна\n",
      "(5718.493236895684, 8941.991279233347)\n",
      "Дисперсия известна\n",
      "(4070.6726386818673, 14196.366716156845)\n"
     ]
    }
   ],
   "source": [
    "get_interval(orders_group_a[\"purchase_mean\"], D=11088900, beta=0.99)\n",
    "get_interval(orders_group_b[\"purchase_mean\"], D=122102500, beta=0.99)"
   ]
  },
  {
   "cell_type": "markdown",
   "metadata": {},
   "source": [
    "9) Найти доверительные интервалы **для каждой из групп A и B по отдельности** при помощи написанной функции **get_interval()** из задания №7 для признака **purchase_mean** для $\\beta=0.99$%!!!:\n",
    "   - при неизвестной дисперсии\n",
    "   \n",
    "**Будьте внимательны** в лекции брали пример с 95%, то с каждой стороны мы брали по 2.5%"
   ]
  },
  {
   "cell_type": "code",
   "execution_count": 79,
   "metadata": {},
   "outputs": [
    {
     "name": "stdout",
     "output_type": "stream",
     "text": [
      "Дисперсия не известна\n",
      "(5584.857027359267, 9075.627488769764)\n",
      "Дисперсия не известна\n",
      "(3650.892834982097, 14616.146519856615)\n"
     ]
    }
   ],
   "source": [
    "get_interval(orders_group_a[\"purchase_mean\"], beta=0.99)\n",
    "get_interval(orders_group_b[\"purchase_mean\"], beta=0.99)"
   ]
  },
  {
   "cell_type": "markdown",
   "metadata": {},
   "source": [
    "10) Написать функцию **bootstrap_interval()** (пока без применения) для вычисления интервала как из задания №7, но теперь только с использованием **Bootstrap**\n",
    "\n",
    "- функция должна принимать:\n",
    "    - данные\n",
    "    - функцию для усреднения (среднее, медиана и тд), по умолчанию np.mean\n",
    "    - уровень доверия по умолчанию $\\beta=0.95$ \n",
    "- вам уже дана функция из лекции bootstrap_resample(), вы ее можете использовать для bootstrap_interval() для генерации выборок\n",
    "- необходимо, чтобы функция **возвращала доверительный интервал**\n",
    "\n",
    "**ВАЖНО:**\n",
    "Описывать внутри вашей функции функцию bootstrap_resample() не нужно!"
   ]
  },
  {
   "cell_type": "code",
   "execution_count": 73,
   "metadata": {},
   "outputs": [],
   "source": [
    "def bootstrap_resample(data: pd.Series,\n",
    "                       function: Callable,\n",
    "                       count_generate: int = 1000,\n",
    "                       random_state: int = 10) -> list:\n",
    "    \"\"\"\n",
    "    Bootstrap\n",
    "    \"\"\"\n",
    "    sample_size = len(data)\n",
    "    np.random.seed(random_state)\n",
    "    bootstrap_sample = []\n",
    "\n",
    "    for i in range(count_generate):\n",
    "        # replace - параметр возвращения\n",
    "        sample = data.sample(sample_size, replace=True)\n",
    "        bootstrap_sample.append(function(sample))\n",
    "\n",
    "    return bootstrap_sample"
   ]
  },
  {
   "cell_type": "code",
   "execution_count": 102,
   "metadata": {},
   "outputs": [],
   "source": [
    "def bootstrap_interval(data: pd.Series, function: Callable = np.mean, beta=0.95) -> tuple:\n",
    "    \"\"\"\n",
    "    Bootstrap\n",
    "    \"\"\"\n",
    "    bootstrap_sample = bootstrap_resample(data, function)\n",
    "    perc_1 = np.quantile(bootstrap_sample, (1 - beta)/2)\n",
    "    perc_2 = np.quantile(bootstrap_sample, (1 + beta)/2)\n",
    "    \n",
    "    return (perc_1, perc_2)"
   ]
  },
  {
   "cell_type": "markdown",
   "metadata": {},
   "source": [
    "11) Найти доверительный интервал **для каждой из групп A и B отдельно** для признака **purchase_mean** при помощи написанной функции из задания №10 при уровне доверия $\\beta=0.99$"
   ]
  },
  {
   "cell_type": "code",
   "execution_count": 103,
   "metadata": {},
   "outputs": [
    {
     "name": "stdout",
     "output_type": "stream",
     "text": [
      "(5924.523293548386, 9036.030098387097)\n",
      "(6466.538561290322, 16710.672940322584)\n"
     ]
    }
   ],
   "source": [
    "print(bootstrap_interval(orders_group_a[\"purchase_mean\"], beta=0.99))\n",
    "print(bootstrap_interval(orders_group_b[\"purchase_mean\"], beta=0.99))"
   ]
  },
  {
   "cell_type": "markdown",
   "metadata": {},
   "source": [
    "12) Выберите **ТОЛЬКО ОДИН** из статистических методов (t-критерий или Манна-Уитни) для **сравнения средних двух выборок** (группы A с группой B) по признаку **purchase_mean** согласно проведенным выше исследованиям с **учетом типа распределения обеих выборок и их размера**. \n",
    "\n",
    "Схожи ли будут выборки? Взять уровень значимости $\\alpha=0.05$"
   ]
  },
  {
   "cell_type": "code",
   "execution_count": 111,
   "metadata": {},
   "outputs": [
    {
     "data": {
      "text/plain": [
       "31"
      ]
     },
     "execution_count": 111,
     "metadata": {},
     "output_type": "execute_result"
    }
   ],
   "source": [
    "orders_group_b[\"purchase_mean\"].shape[0]"
   ]
  },
  {
   "cell_type": "code",
   "execution_count": 109,
   "metadata": {},
   "outputs": [
    {
     "name": "stdout",
     "output_type": "stream",
     "text": [
      "Средние схожи\n",
      "p_value = 0.4088449848294004\n"
     ]
    }
   ],
   "source": [
    "p_value = stats.mannwhitneyu(\n",
    "    orders_group_a[\"purchase_mean\"], orders_group_b[\"purchase_mean\"], method=\"exact\").pvalue\n",
    "\n",
    "if p_value > 0.05:\n",
    "    print(f\"Средние схожи\\np_value = {p_value}\")\n",
    "else:\n",
    "    print(f\"Средние различны\\np_value = {p_value}\")"
   ]
  },
  {
   "cell_type": "markdown",
   "metadata": {},
   "source": [
    "13) Проделайте то же самое сравнение, но уже при помощи **Bootstrap**:\n",
    "- Используйте функцию **bootstrap_compare()** из лекции\n",
    "- В качестве **function возьмите np.median**!!!\n",
    "\n",
    "Выведите график **РАСПРЕДЕЛЕНИЯ** (не частоты значений) разности двух групп (пример в лекции), а также доверительный интервал\n",
    "\n",
    "Схожи ли результаты эксеримента?"
   ]
  },
  {
   "cell_type": "code",
   "execution_count": 113,
   "metadata": {},
   "outputs": [],
   "source": [
    "def bootstrap_resample_2(data1: pd.Series,\n",
    "                         data2: pd.Series,\n",
    "                         function: Callable,\n",
    "                         count_generate: int = 1000,\n",
    "                         random_state: int = 10) -> list:\n",
    "    \"\"\"\n",
    "    Bootstrap compare\n",
    "    \"\"\"\n",
    "    sample_size = max(len(data1), len(data2))\n",
    "    np.random.seed(random_state)\n",
    "    bootstrap_sample = []\n",
    "\n",
    "    for i in range(count_generate):\n",
    "        # replace - параметр возвращения\n",
    "        sample1 = data1.sample(sample_size, replace=True)\n",
    "        sample2 = data2.sample(sample_size, replace=True)\n",
    "        bootstrap_sample.append(function(sample1) - function(sample2))\n",
    "\n",
    "    return bootstrap_sample"
   ]
  },
  {
   "cell_type": "code",
   "execution_count": 129,
   "metadata": {},
   "outputs": [
    {
     "name": "stdout",
     "output_type": "stream",
     "text": [
      "Средние схожи\n",
      "p_value = 0.3071080486917315\n"
     ]
    },
    {
     "data": {
      "text/plain": [
       "<matplotlib.collections.LineCollection at 0x7f97d1fc8160>"
      ]
     },
     "execution_count": 129,
     "metadata": {},
     "output_type": "execute_result"
    },
    {
     "data": {
      "image/png": "[encoded data removed]",
      "text/plain": [
       "<Figure size 640x480 with 1 Axes>"
      ]
     },
     "metadata": {},
     "output_type": "display_data"
    }
   ],
   "source": [
    "def bootstrap_compare(data1: pd.Series,\n",
    "                      data2: pd.Series,\n",
    "                      function: Callable = np.mean,\n",
    "                      alpha=0.05) -> tuple:\n",
    "    \"\"\"\n",
    "    Bootstrap compare\n",
    "    \"\"\"\n",
    "    bs_sample = bootstrap_resample_2(data1, data2, function)\n",
    "\n",
    "    perc_1 = np.quantile(bs_sample, alpha/2)\n",
    "    perc_2 = np.quantile(bs_sample, (1 - alpha)/2)\n",
    "    ci = (perc_1, perc_2)\n",
    "\n",
    "    p1 = stats.norm.cdf(0, loc=np.mean(bs_sample), scale=np.std(bs_sample))\n",
    "    p2 = 1 - p1\n",
    "    p_value = min(p1, p2) * 2\n",
    "    \n",
    "    if p_value > alpha:\n",
    "        print(f\"Средние схожи\\np_value = {p_value}\")\n",
    "    else:\n",
    "        print(f\"Средние различны\\np_value = {p_value}\")\n",
    "\n",
    "    return bs_sample, ci, p_value\n",
    "\n",
    "\n",
    "sample, ci, p_value = bootstrap_compare(\n",
    "    orders_group_a[\"purchase_mean\"], orders_group_b[\"purchase_mean\"], function=np.median)\n",
    "\n",
    "sns.ecdfplot(sample)\n",
    "plt.axvline(np.mean(sample), ls = '--', color = \"orange\")\n",
    "plt.vlines(ci, ymin=0, ymax=1, ls = '--', color = 'black')"
   ]
  },
  {
   "cell_type": "code",
   "execution_count": null,
   "metadata": {},
   "outputs": [],
   "source": []
  }
 ],
 "metadata": {
  "hide_input": false,
  "kernelspec": {
   "display_name": "Python 3 (ipykernel)",
   "language": "python",
   "name": "python3"
  },
  "language_info": {
   "codemirror_mode": {
    "name": "ipython",
    "version": 3
   },
   "file_extension": ".py",
   "mimetype": "text/x-python",
   "name": "python",
   "nbconvert_exporter": "python",
   "pygments_lexer": "ipython3",
   "version": "3.10.7"
  },
  "toc": {
   "base_numbering": 1,
   "nav_menu": {},
   "number_sections": true,
   "sideBar": true,
   "skip_h1_title": false,
   "title_cell": "Table of Contents",
   "title_sidebar": "Contents",
   "toc_cell": false,
   "toc_position": {
    "height": "calc(100% - 180px)",
    "left": "10px",
    "top": "150px",
    "width": "338.8125px"
   },
   "toc_section_display": true,
   "toc_window_display": false
  }
 },
 "nbformat": 4,
 "nbformat_minor": 4
}
