{
 "cells": [
  {
   "cell_type": "markdown",
   "metadata": {
    "hide_input": true
   },
   "source": [
    "# Python"
   ]
  },
  {
   "cell_type": "markdown",
   "metadata": {},
   "source": [
    "## Функциональное программирование"
   ]
  },
  {
   "cell_type": "markdown",
   "metadata": {},
   "source": [
    "1) Создайте функцию, которая на вход будет принимать два значения (могут быть типы данных как int и float, обязательно предусмотреть ДВА типа) и суммировать их, необходимо добавить **внутри функции исключение try-except** на случай, если будете подавать значению в функцию в нерелевантных форматах. \n",
    "\n",
    "Также предусмотреть **возврат полученного значения** при помощи return. После написания функции, объявите ее и подайте на вход два любых значения и выведите результат. \n",
    "\n",
    "\n",
    "========================================================================================\n",
    "\n",
    "<strong style=\"color: red\">Не забывайте про - from typing import Union. Абсолютно ВЕЗДЕ не забывайте про документацию к методам, а также type hints.\n",
    "\n",
    "Если не будет docstring и type hints РАБОТА ЗАСЧИТАНА НЕ БУДЕТ, даже при привильно отрабатывающем коде!!</strong>\n",
    "\n",
    "========================================================================================"
   ]
  },
  {
   "cell_type": "code",
   "execution_count": 1,
   "metadata": {},
   "outputs": [
    {
     "name": "stdout",
     "output_type": "stream",
     "text": [
      "\u001b[31mERROR: Can not perform a '--user' install. User site-packages are not visible in this virtualenv.\u001b[0m\u001b[31m\n",
      "\u001b[0m3.0\n"
     ]
    },
    {
     "ename": "TypeError",
     "evalue": "",
     "output_type": "error",
     "traceback": [
      "\u001b[0;31m---------------------------------------------------------------------------\u001b[0m",
      "\u001b[0;31mTypeError\u001b[0m                                 Traceback (most recent call last)",
      "Cell \u001b[0;32mIn [1], line 17\u001b[0m, in \u001b[0;36msum_2\u001b[0;34m(a, b)\u001b[0m\n\u001b[1;32m     16\u001b[0m \u001b[38;5;28;01mtry\u001b[39;00m:\n\u001b[0;32m---> 17\u001b[0m     \u001b[38;5;28;01mreturn\u001b[39;00m \u001b[43ma\u001b[49m\u001b[43m \u001b[49m\u001b[38;5;241;43m+\u001b[39;49m\u001b[43m \u001b[49m\u001b[43mb\u001b[49m\n\u001b[1;32m     18\u001b[0m \u001b[38;5;28;01mexcept\u001b[39;00m \u001b[38;5;167;01mTypeError\u001b[39;00m:\n",
      "\u001b[0;31mTypeError\u001b[0m: can only concatenate str (not \"int\") to str",
      "\nDuring handling of the above exception, another exception occurred:\n",
      "\u001b[0;31mTypeError\u001b[0m                                 Traceback (most recent call last)",
      "Cell \u001b[0;32mIn [1], line 22\u001b[0m\n\u001b[1;32m     19\u001b[0m         \u001b[38;5;28;01mraise\u001b[39;00m \u001b[38;5;167;01mTypeError\u001b[39;00m\n\u001b[1;32m     21\u001b[0m \u001b[38;5;28mprint\u001b[39m(sum_2(\u001b[38;5;241m1\u001b[39m,\u001b[38;5;241m2.0\u001b[39m))\n\u001b[0;32m---> 22\u001b[0m \u001b[38;5;28mprint\u001b[39m(sum_2(\u001b[38;5;124m\"\u001b[39m\u001b[38;5;124ms\u001b[39m\u001b[38;5;124m\"\u001b[39m, \u001b[38;5;241m4\u001b[39m))\n",
      "Cell \u001b[0;32mIn [1], line 19\u001b[0m, in \u001b[0;36msum_2\u001b[0;34m(a, b)\u001b[0m\n\u001b[1;32m     17\u001b[0m     \u001b[38;5;28;01mreturn\u001b[39;00m a \u001b[38;5;241m+\u001b[39m b\n\u001b[1;32m     18\u001b[0m \u001b[38;5;28;01mexcept\u001b[39;00m \u001b[38;5;167;01mTypeError\u001b[39;00m:\n\u001b[0;32m---> 19\u001b[0m     \u001b[38;5;28;01mraise\u001b[39;00m \u001b[38;5;167;01mTypeError\u001b[39;00m\n",
      "\u001b[0;31mTypeError\u001b[0m: "
     ]
    }
   ],
   "source": [
    "!pip3 install autopep8 --user\n",
    "from typing import Union\n",
    "\n",
    "def sum_2(a:Union[int, float], b:Union[int, float])->Union[int, float]:\n",
    "    \"\"\"\n",
    "    :param a: int, float\n",
    "        the first number\n",
    "    :param b: int, float\n",
    "        the second number\n",
    "    -----------------\n",
    "    :return: int, float\n",
    "        sum of the two numbers\n",
    "    :raise\n",
    "        If type of \"a\" or \"b\" is not int and float\n",
    "    \"\"\"\n",
    "    try:\n",
    "        return a + b\n",
    "    except TypeError:\n",
    "        raise TypeError\n",
    "\n",
    "print(sum_2(1,2.0))\n",
    "print(sum_2(\"s\", 4))"
   ]
  },
  {
   "cell_type": "markdown",
   "metadata": {},
   "source": [
    "2) Создайте функцию с неизвестным количеством неименованных аргументов (*args). Если аргумент будет типа str (использовать isinstance), то добавить его в список, объявленный внутри функции, верните итоговый список при помощи return в функции. \n",
    "\n",
    "После написания функции объявите ее и подайте на вход 6 любых объектов с разными типами, в том числе и string, выведите результат."
   ]
  },
  {
   "cell_type": "code",
   "execution_count": 8,
   "metadata": {},
   "outputs": [
    {
     "name": "stdout",
     "output_type": "stream",
     "text": [
      "['string']\n"
     ]
    }
   ],
   "source": [
    "from typing import List, Any\n",
    "\n",
    "def choose_str(*args:Any)->List[str]:\n",
    "    \"\"\"\n",
    "    :param args: Any\n",
    "        massive of the elements\n",
    "    ---------------------------\n",
    "    :return: List[str]\n",
    "        massive of the strings\n",
    "    \"\"\"\n",
    "    result = []\n",
    "\n",
    "    for elem in args:\n",
    "        \"\"\"\n",
    "        Enumeration of the list\n",
    "        \"\"\"\n",
    "        if isinstance(elem, str):\n",
    "            result.append(elem)\n",
    "\n",
    "    return result\n",
    "\n",
    "print(choose_str(1,2.0, True, (2,1.0,\"r\"),[2,\"rt\"],\"string\"))"
   ]
  },
  {
   "cell_type": "markdown",
   "metadata": {},
   "source": [
    "## ООП"
   ]
  },
  {
   "cell_type": "markdown",
   "metadata": {},
   "source": [
    "3) Создайте класс **Number**, где необходимо инициализировать 1 объект **values** типа **list**. \n",
    "\n",
    "В классе также создать метод **show**, он будет выводить значение value, которое подается ему на вход.\n",
    "\n",
    "**Пример:**\n",
    "\n",
    "```python\n",
    "n = Number(values = [1, 2, 3])\n",
    "n.show(n.values)\n",
    "```\n",
    "\n",
    "**Вывод:**\n",
    "```console\n",
    "result = [1, 2, 3]\n",
    "```\n",
    "\n",
    "где [1, 2, 3] - список, передаваемый в виде значения для атрибута **values** "
   ]
  },
  {
   "cell_type": "code",
   "execution_count": 14,
   "metadata": {},
   "outputs": [
    {
     "name": "stdout",
     "output_type": "stream",
     "text": [
      "result =  [1]\n"
     ]
    }
   ],
   "source": [
    "class Number:\n",
    "    \"\"\"\n",
    "    Parameters\n",
    "    ----------\n",
    "    values: list\n",
    "        values of object\n",
    "\n",
    "    Methods\n",
    "    -------\n",
    "    show(value):\n",
    "        show on screen \"value\"\n",
    "    \"\"\"\n",
    "    def __init__(self, values: list):\n",
    "        \"\"\"\n",
    "        Create params of object\n",
    "        :param values: list\n",
    "            values of object\n",
    "        \"\"\"\n",
    "        self.values = values\n",
    "\n",
    "    @staticmethod\n",
    "    def show(value: Any) -> None:\n",
    "        \"\"\"\n",
    "        Showing \"value\"\n",
    "        :param value: Any\n",
    "        :return: None\n",
    "        \"\"\"\n",
    "        print(value)\n",
    "\n",
    "        \n",
    "example = Number([0,1,2])\n",
    "example.show([1])"
   ]
  },
  {
   "cell_type": "markdown",
   "metadata": {},
   "source": [
    "4) Создайте класс **Math**, который будет наследовать от суперкласса **Number** (реализованном в 3 задании) все публичные атрибуты и методы.\n",
    "\n",
    "Дополнительно в классе **Math** инициализируйте 1 объект **number** типа **int**.\n",
    "\n",
    "В классе **Math** также создать метод **multi**, он будет умножать **number** на каждый элемент атрибута **values** (наследован из Number). Предусмотреть исключения!\n",
    "\n",
    "\n",
    "\n",
    "**Пример:**\n",
    "\n",
    "```python\n",
    "m = Math([1, 2, 3], 3)\n",
    "result = m.multi()\n",
    "m.show(result)\n",
    "```\n",
    "\n",
    "**Вывод:**\n",
    "```console\n",
    "result = [3, 6, 9]\n",
    "```"
   ]
  },
  {
   "cell_type": "code",
   "execution_count": 19,
   "metadata": {},
   "outputs": [
    {
     "name": "stdout",
     "output_type": "stream",
     "text": [
      "result =  [3, 6, 9]\n"
     ]
    }
   ],
   "source": [
    "class Math(Number):\n",
    "    \"\"\"\n",
    "    Parameters\n",
    "    ----------\n",
    "    values: list\n",
    "        param of class \"Number\"\n",
    "    number: int\n",
    "        first param\n",
    "\n",
    "    Methods\n",
    "    -------\n",
    "    multi():\n",
    "        multiply elements of self.values by number\n",
    "    \"\"\"\n",
    "\n",
    "    def __init__(self, values: list, number: int):\n",
    "        \"\"\"\n",
    "        Create params of object\n",
    "        :param values:\n",
    "            param of \"Number\"\n",
    "        :param number:\n",
    "             first param\n",
    "        \"\"\"\n",
    "        super().__init__(values)\n",
    "        self.number = number\n",
    "\n",
    "    def multi(self) -> list:  # непонятно, должен ли метод менять self.values\n",
    "        \"\"\"\n",
    "        Multiplying self.values by self.number if it is possible\n",
    "        :return: list\n",
    "            return list multiplied by self.number\n",
    "        \"\"\"\n",
    "        try:\n",
    "            return [x*self.number for x in self.values]\n",
    "        except TypeError:\n",
    "            raise TypeError\n",
    "\n",
    "\n",
    "m = Math([1, 2, 3], 3)\n",
    "result = m.multi()\n",
    "m.show(result)"
   ]
  },
  {
   "cell_type": "markdown",
   "metadata": {},
   "source": [
    "5) Скопируйте код, при помощи которого вы создали класс **Math** в 4 задании, но теперь добавьте к нему:\n",
    "\n",
    "- метод **summation** должен быть **статическим и инкапсулированным** (недоступным ИЗВНЕ по одной черте). Он должен принимать на вход объект типа list и **возвращать сумму элементов**. Предусмотреть исключения\n",
    "\n",
    "- метод **average** должен находить среднее значение из списка **values**, который вы унаследовали из **Number**. Чтобы найти среднее значение используйте также метод **summation**. Предусмотреть исключения\n",
    "\n",
    "- Необходимо оставить метод **multi** в том же виде\n",
    "\n",
    "\n",
    "Далее попробуйте создать объект класса Math и инициализировать в нем значения. После чего выведите результаты работы методов average и multi\n",
    "\n",
    "**Пример**:\n",
    "\n",
    "Инициализировали\n",
    "```python\n",
    "values = [2,3,4], number=2\n",
    "```\n",
    "\n",
    "**Вывод:**\n",
    "```console\n",
    "# average\n",
    "result = 3.0\n",
    "\n",
    "# multi\n",
    "result = [4, 6, 8]\n",
    "```"
   ]
  },
  {
   "cell_type": "code",
   "execution_count": 23,
   "metadata": {},
   "outputs": [
    {
     "name": "stdout",
     "output_type": "stream",
     "text": [
      "result =  [4, 6, 8]\n",
      "result =  3.0\n"
     ]
    }
   ],
   "source": [
    "class Math(Number):\n",
    "    \"\"\"\n",
    "    Parameters\n",
    "    ----------\n",
    "    values: list\n",
    "        param of class \"Number\"\n",
    "    number: int\n",
    "        first param\n",
    "\n",
    "    Methods\n",
    "    -------\n",
    "    multi():\n",
    "        multiply elements of self.values by number\n",
    "    \"\"\"\n",
    "\n",
    "    def __init__(self, values: list, number: int):\n",
    "        \"\"\"\n",
    "        Create params of object\n",
    "        :param values:\n",
    "            param of \"Number\"\n",
    "        :param number:\n",
    "             first param\n",
    "        \"\"\"\n",
    "        super().__init__(values)\n",
    "        self.number = number\n",
    "\n",
    "    def multi(self) -> list:  # непонятно, должен ли метод менять self.values\n",
    "        \"\"\"\n",
    "        Multiplying self.values by self.number if it is possible\n",
    "        :return: list\n",
    "            return list multiplied by self.number\n",
    "        \"\"\"\n",
    "        try:\n",
    "            return [x*self.number for x in self.values]\n",
    "        except TypeError:\n",
    "            raise TypeError\n",
    "    \n",
    "    @staticmethod\n",
    "    def __summation(array: List[Union[float, int]]) -> Union[int,float]:\n",
    "        \"\"\"\n",
    "        Private method\n",
    "        Sum of elements of the array\n",
    "        :return: int, float\n",
    "            Sum of elements of the array\n",
    "        :raise\n",
    "        TypeError\n",
    "            If elements can't be summarized\n",
    "        \"\"\"\n",
    "        try:\n",
    "            return sum(array)\n",
    "        except TypeError:\n",
    "            raise TypeError\n",
    "    \n",
    "    def average(self) -> float:\n",
    "        \"\"\"\n",
    "        Average value of self.values\n",
    "        :return: float\n",
    "            avg of self.values\n",
    "        \"\"\"\n",
    "        return self.__summation(self.values)/len(self.values)\n",
    "\n",
    "\n",
    "m = Math([2, 3, 4], 2)\n",
    "result_m = m.multi()\n",
    "result_a = m.average()\n",
    "m.show(result_m)\n",
    "m.show(result_a)"
   ]
  }
 ],
 "metadata": {
  "hide_input": false,
  "kernelspec": {
   "display_name": "Python 3 (ipykernel)",
   "language": "python",
   "name": "python3"
  },
  "language_info": {
   "codemirror_mode": {
    "name": "ipython",
    "version": 3
   },
   "file_extension": ".py",
   "mimetype": "text/x-python",
   "name": "python",
   "nbconvert_exporter": "python",
   "pygments_lexer": "ipython3",
   "version": "3.10.7"
  },
  "toc": {
   "base_numbering": 1,
   "nav_menu": {},
   "number_sections": true,
   "sideBar": true,
   "skip_h1_title": false,
   "title_cell": "Table of Contents",
   "title_sidebar": "Contents",
   "toc_cell": false,
   "toc_position": {
    "height": "calc(100% - 180px)",
    "left": "10px",
    "top": "150px",
    "width": "165px"
   },
   "toc_section_display": true,
   "toc_window_display": true
  }
 },
 "nbformat": 4,
 "nbformat_minor": 4
}
