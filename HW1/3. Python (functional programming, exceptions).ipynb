{
 "cells": [
  {
   "cell_type": "markdown",
   "metadata": {},
   "source": [
    "# Функциональное программирование"
   ]
  },
  {
   "cell_type": "markdown",
   "metadata": {},
   "source": [
    "## Когда нужны функции. Повторяющиеся блоки кода"
   ]
  },
  {
   "cell_type": "code",
   "execution_count": 1,
   "metadata": {},
   "outputs": [
    {
     "data": {
      "text/plain": [
       "10"
      ]
     },
     "execution_count": 1,
     "metadata": {},
     "output_type": "execute_result"
    }
   ],
   "source": [
    "x = 9\n",
    "y = 1\n",
    "\n",
    "result = x + y\n",
    "result"
   ]
  },
  {
   "cell_type": "code",
   "execution_count": 2,
   "metadata": {},
   "outputs": [
    {
     "data": {
      "text/plain": [
       "12"
      ]
     },
     "execution_count": 2,
     "metadata": {},
     "output_type": "execute_result"
    }
   ],
   "source": [
    "x = 10\n",
    "y = 2\n",
    "\n",
    "result = x + y\n",
    "result"
   ]
  },
  {
   "cell_type": "code",
   "execution_count": 15,
   "metadata": {},
   "outputs": [],
   "source": [
    "def summation(x, y):\n",
    "    return x + y\n",
    "\n",
    "\n",
    "res = summation(9, 1)"
   ]
  },
  {
   "cell_type": "code",
   "execution_count": 16,
   "metadata": {},
   "outputs": [
    {
     "data": {
      "text/plain": [
       "10"
      ]
     },
     "execution_count": 16,
     "metadata": {},
     "output_type": "execute_result"
    }
   ],
   "source": [
    "res"
   ]
  },
  {
   "cell_type": "markdown",
   "metadata": {},
   "source": [
    "## Функции"
   ]
  },
  {
   "cell_type": "markdown",
   "metadata": {},
   "source": [
    "Создание функций необходимо, чтобы упростить вашу программу, описать повторяющиеся элементы кода, которые вы сможете переиспользовать в других местах. \n",
    "Если вы работаете над большим проектом, то важно придерживаться принципа Don’t Repeat Yourself (DRY, избегайте самоповторов). Как один из способов придерживаться данного принципа – использовать циклы и функции. \n",
    "\n",
    "Этот принцип неразрывно связан с функциональным программированием.\n",
    "\n",
    "**Функциональное программирование** – парадигма программирования, которая основывается на функциях. Одно из ключевых особенностей данной парадигмы это использование функций высшего порядка, которые принимают другие функции в качестве аргументов, либо возвращают их как результат. \n",
    "\n",
    "В Python функция определяется с помощью ключевого слова def. После того, как вы назвали свою функцию и поставили круглые скобки, необходимо указать знак двоеточия. Следующие строки должны быть с отступом от строки с объявлением функции."
   ]
  },
  {
   "cell_type": "code",
   "execution_count": 17,
   "metadata": {},
   "outputs": [
    {
     "name": "stdout",
     "output_type": "stream",
     "text": [
      "Hello from a function\n"
     ]
    }
   ],
   "source": [
    "def welcome() -> None:\n",
    "    print(\"Hello from a function\")\n",
    "\n",
    "\n",
    "# Вызов функции\n",
    "welcome()"
   ]
  },
  {
   "cell_type": "markdown",
   "metadata": {},
   "source": [
    "Между определением функии и вызовом ее ставим две пустые строки\n",
    "\n",
    "**PEP8. Пустые строки:**\n",
    "- Определения внешних классов и функций окружается двумя пустыми строками\n",
    "- Определения методов внутри класса заключены в одну пустую строку.\n",
    "- Дополнительные пустые строки могут использоваться для разделения групп связанных функций. Пустые строки могут быть пропущены между связкой связанных строк (например, набором фиктивных реализаций).\n",
    "- Используйте пустые строки в функциях, чтобы указать логические разделы."
   ]
  },
  {
   "cell_type": "code",
   "execution_count": 22,
   "metadata": {},
   "outputs": [
    {
     "name": "stdout",
     "output_type": "stream",
     "text": [
      "Hello Nastya\n"
     ]
    }
   ],
   "source": [
    "def welcome(name: str) -> None:\n",
    "    print(f\"Hello {name}\")\n",
    "\n",
    "\n",
    "# Вызов функции\n",
    "welcome(name=\"Nastya\")"
   ]
  },
  {
   "cell_type": "code",
   "execution_count": 23,
   "metadata": {},
   "outputs": [
    {
     "name": "stdout",
     "output_type": "stream",
     "text": [
      "Hello Nastya\n"
     ]
    }
   ],
   "source": [
    "def welcome(name: str) -> None:\n",
    "    print(f\"Hello {name}\")\n",
    "\n",
    "\n",
    "def birthday(year: int) -> None:\n",
    "    print(f\"I was born in {year}\")\n",
    "\n",
    "\n",
    "# Вызов функций\n",
    "welcome(name=\"Nastya\")"
   ]
  },
  {
   "cell_type": "code",
   "execution_count": 24,
   "metadata": {},
   "outputs": [
    {
     "name": "stdout",
     "output_type": "stream",
     "text": [
      "I was born in 1990\n"
     ]
    }
   ],
   "source": [
    "birthday(year=1990)"
   ]
  },
  {
   "cell_type": "markdown",
   "metadata": {},
   "source": [
    "Пример, когда одна функция вызывает другую. \n",
    "\n",
    "- В данном случае мы подаем функцию multi_var на вход apply_twice, где apply_twice выполняется дважды (смотрим на return)\n",
    "- сначала мы 5 умножаем на 2, получаем 10\n",
    "- потом к этому значению еще раз применяем apply_twice, тем самым умножив на 2, и в итоге на экране видим число 20."
   ]
  },
  {
   "cell_type": "code",
   "execution_count": 26,
   "metadata": {},
   "outputs": [
    {
     "data": {
      "text/plain": [
       "20"
      ]
     },
     "execution_count": 26,
     "metadata": {},
     "output_type": "execute_result"
    }
   ],
   "source": [
    "def apply_twice(func, arg):\n",
    "    return func(func(arg))\n",
    "\n",
    "\n",
    "def multi_var(var):\n",
    "    return var * 2\n",
    "\n",
    "\n",
    "apply_twice(multi_var, 5)"
   ]
  },
  {
   "cell_type": "markdown",
   "metadata": {},
   "source": [
    "## Аннотация типов"
   ]
  },
  {
   "cell_type": "markdown",
   "metadata": {},
   "source": [
    "Чтобы понимать, какие вы данные подаете на вход и какие возвращаете, то после каждого параметра после двоеточия указываете его тип, так проще и легче ориентироваться будет другому человеку при работе над кодом и ревью. После круглых скобок через стрелочку вы указываете тип возвращаемого значения.\n",
    "\n",
    "- Для случаев, когда необходимо допустить использование не любых типов, а только некоторых, можно использовать аннотацию **typing.Union** с указанием списка типов в квадратных скобках.\n",
    "\n",
    "- Если вы пометите переменную типом int и захотите присвоить ей None, то для таких случаев предусмотрена в модуле typing аннотация **Optional** с указанием конкретного типа. Обратите внимание, тип опциональной переменной указывается в квадратных скобках\n",
    "\n",
    "- Если вы не хотите ограничивать возможные типы переменной. Например, если это действительно не важно, или если вы планируете сделать обработку разных типов самостоятельно. В этом случае, можно использовать аннотацию **Any**."
   ]
  },
  {
   "cell_type": "code",
   "execution_count": 34,
   "metadata": {},
   "outputs": [
    {
     "name": "stdout",
     "output_type": "stream",
     "text": [
      "Hello from a function stroka\n"
     ]
    }
   ],
   "source": [
    "from typing import Any, Union\n",
    "\n",
    "\n",
    "# В функцию можно передавать параметры, Any - любые типы данных\n",
    "# parameters: Any - type hints, их желательно указывать, типы, которые при помощи них\n",
    "# описываете, интерпретатор строго проверять не будет\n",
    "def my_function(parameters: Any) -> None:\n",
    "    print(\"Hello from a function \" + str(parameters))\n",
    "\n",
    "\n",
    "# Вызов функции\n",
    "my_function('stroka')"
   ]
  },
  {
   "cell_type": "code",
   "execution_count": 33,
   "metadata": {},
   "outputs": [
    {
     "name": "stdout",
     "output_type": "stream",
     "text": [
      "Hello from a function 123.5\n"
     ]
    }
   ],
   "source": [
    "my_function(123.5)"
   ]
  },
  {
   "cell_type": "code",
   "execution_count": 35,
   "metadata": {},
   "outputs": [
    {
     "name": "stdout",
     "output_type": "stream",
     "text": [
      "Hello from a function stroka\n"
     ]
    }
   ],
   "source": [
    "from typing import Union\n",
    "\n",
    "\n",
    "# Но лучше в данном случае str|int|float, так как мы можем и передать словарь\n",
    "# Тип переменных не обязывает интерпретатор проверять типы\n",
    "def my_function(parameters: Union[int, float, str]) -> None:\n",
    "    print(\"Hello from a function \" + str(parameters))\n",
    "\n",
    "\n",
    "# Вызов функции\n",
    "my_function('stroka')"
   ]
  },
  {
   "cell_type": "code",
   "execution_count": 36,
   "metadata": {},
   "outputs": [
    {
     "name": "stdout",
     "output_type": "stream",
     "text": [
      "Hello from a function 1.1\n"
     ]
    }
   ],
   "source": [
    "my_function(1.1)"
   ]
  },
  {
   "cell_type": "code",
   "execution_count": 37,
   "metadata": {
    "ExecuteTime": {
     "end_time": "2022-02-27T21:37:22.214449Z",
     "start_time": "2022-02-27T21:37:22.206840Z"
    }
   },
   "outputs": [],
   "source": [
    "# Тип переменных не обязывает интерпретатор проверять типы\n",
    "def my_function(param_1: Union[int, float],\n",
    "                param_2: Union[int, float]) -> Union[int, float]:\n",
    "    scores = param_1 + 1 + param_2\n",
    "    # При помощи return возвращаем значения\n",
    "    return scores"
   ]
  },
  {
   "cell_type": "code",
   "execution_count": 41,
   "metadata": {
    "ExecuteTime": {
     "end_time": "2022-02-27T21:37:22.513328Z",
     "start_time": "2022-02-27T21:37:22.494036Z"
    }
   },
   "outputs": [
    {
     "data": {
      "text/plain": [
       "4.1"
      ]
     },
     "execution_count": 41,
     "metadata": {},
     "output_type": "execute_result"
    }
   ],
   "source": [
    "my_function(1, 2.1)"
   ]
  },
  {
   "cell_type": "code",
   "execution_count": 42,
   "metadata": {
    "ExecuteTime": {
     "end_time": "2022-02-27T21:37:23.494520Z",
     "start_time": "2022-02-27T21:37:23.487807Z"
    }
   },
   "outputs": [
    {
     "data": {
      "text/plain": [
       "int"
      ]
     },
     "execution_count": 42,
     "metadata": {},
     "output_type": "execute_result"
    }
   ],
   "source": [
    "type(my_function(1, 2))"
   ]
  },
  {
   "cell_type": "code",
   "execution_count": 44,
   "metadata": {
    "ExecuteTime": {
     "end_time": "2022-02-27T21:41:51.901786Z",
     "start_time": "2022-02-27T21:41:51.892256Z"
    },
    "scrolled": true
   },
   "outputs": [
    {
     "name": "stdout",
     "output_type": "stream",
     "text": [
      "CPU times: user 4 µs, sys: 1e+03 ns, total: 5 µs\n",
      "Wall time: 8.82 µs\n"
     ]
    },
    {
     "data": {
      "text/plain": [
       "73.0"
      ]
     },
     "execution_count": 44,
     "metadata": {},
     "output_type": "execute_result"
    }
   ],
   "source": [
    "%%time\n",
    "my_function(30.0, 42.0)"
   ]
  },
  {
   "cell_type": "markdown",
   "metadata": {},
   "source": [
    "Wall-clock time - время, прошедшее с начала до конца программы, также это время, которое часы на стене (или секундомер в руке) измеряют как прошедшее между началом процесса и \"сейчас\" (измерение времени с помощью отдельных независимых часов в отличие от внутреннего времени локальной системы)\n",
    "\n",
    "\n",
    "Для Linux:\n",
    "\n",
    "The user-cpu time and system-cpu time - это количество времени, затраченного в пользовательском коде, и количество времени, затраченного в коде ядра (время, проведенное в ядре, обычно время, потраченное на обслуживание системных вызовов). Общее CPU может быть ниже общего wall time, если программа ждет, пока процессор станет доступным, либо выше, если программа выполняется на нескольких ядрах процессора паралелльно."
   ]
  },
  {
   "cell_type": "code",
   "execution_count": 45,
   "metadata": {},
   "outputs": [
    {
     "name": "stdout",
     "output_type": "stream",
     "text": [
      "99 ns ± 0.255 ns per loop (mean ± std. dev. of 7 runs, 10000000 loops each)\n"
     ]
    }
   ],
   "source": [
    "%%timeit\n",
    "my_function(30.0, 42.0)"
   ]
  },
  {
   "cell_type": "markdown",
   "metadata": {},
   "source": [
    "## **ДЗ. Изучить:** \n",
    "\n",
    "https://habr.com/ru/company/lamoda/blog/432656/\n",
    "\n",
    "https://docs.python.org/3/library/typing.html"
   ]
  },
  {
   "cell_type": "markdown",
   "metadata": {},
   "source": [
    "## Передача параметров функции"
   ]
  },
  {
   "cell_type": "markdown",
   "metadata": {},
   "source": [
    "Существует несколько способов передачи функции различного количества аргументов. Первый способ часто является наиболее интуитивно понятным: вы просто передаете список или набор всех аргументов своей функции. Таким образом, для my_sum() вы можете передать список всех целых чисел, которые вам нужно добавить:"
   ]
  },
  {
   "cell_type": "code",
   "execution_count": 47,
   "metadata": {
    "ExecuteTime": {
     "end_time": "2022-02-27T21:55:11.336412Z",
     "start_time": "2022-02-27T21:55:11.330099Z"
    }
   },
   "outputs": [
    {
     "name": "stdout",
     "output_type": "stream",
     "text": [
      "6.5\n"
     ]
    }
   ],
   "source": [
    "from typing import List, Union\n",
    "\n",
    "\n",
    "def summation(values: List[Union[int, float]]) -> Union[int, float]:\n",
    "    return sum(values)\n",
    "\n",
    "\n",
    "list_integers = [1, 2, 3.5]\n",
    "print(summation(list_integers))"
   ]
  },
  {
   "cell_type": "markdown",
   "metadata": {},
   "source": [
    "Эта реализация работает, но всякий раз, когда вы вызываете эту функцию, вам также потребуется создать список аргументов для передачи ей. Это может быть неудобно, особенно если вы заранее не знаете всех значений, которые должны быть включены в список.\n",
    "\n",
    "\n",
    "Для этого используется **args**, он может быть полезен, потому что позволяет передавать различное количество аргументов.\n",
    "\n",
    "args нужен, когда мы хотим передать **неизвестное количество неименованных аргументов**. Если поставить * перед именем, это имя будет принимать не один аргумент, а несколько. Аргументы могут передаются как кортеж и доступны внутри функции под тем же именем, что и имя параметра, только без *."
   ]
  },
  {
   "cell_type": "code",
   "execution_count": 56,
   "metadata": {},
   "outputs": [
    {
     "name": "stdout",
     "output_type": "stream",
     "text": [
      "type(args) = <class 'tuple'>\n"
     ]
    },
    {
     "data": {
      "text/plain": [
       "21.6"
      ]
     },
     "execution_count": 56,
     "metadata": {},
     "output_type": "execute_result"
    }
   ],
   "source": [
    "def summation(*args: Union[int, float]) -> Union[int, float]:\n",
    "    print(f\"{type(args) = }\")\n",
    "    return sum(args)\n",
    "\n",
    "\n",
    "summation(1, 2, 3.6, 7, 7, 1)"
   ]
  },
  {
   "cell_type": "code",
   "execution_count": 59,
   "metadata": {},
   "outputs": [],
   "source": [
    "# не рекомендуется \n",
    "# from typing import *"
   ]
  },
  {
   "cell_type": "markdown",
   "metadata": {},
   "source": [
    "Обратите внимание, что **args** - это просто имя. Вы не обязаны использовать имя args. Вы можете выбрать любое имя, которое вам больше нравится.\n",
    "\n",
    "При помощи **kwargs** мы можем передавать в функцию словари, но если используем *args, то можем передать только кортежи. \n",
    "Возьмем следующий пример:"
   ]
  },
  {
   "cell_type": "code",
   "execution_count": 60,
   "metadata": {
    "ExecuteTime": {
     "end_time": "2022-02-27T21:51:26.216886Z",
     "start_time": "2022-02-27T21:51:26.209240Z"
    }
   },
   "outputs": [
    {
     "name": "stdout",
     "output_type": "stream",
     "text": [
      "type(kwargs) = <class 'dict'>\n"
     ]
    },
    {
     "data": {
      "text/plain": [
       "'RealPythonIsGreat!'"
      ]
     },
     "execution_count": 60,
     "metadata": {},
     "output_type": "execute_result"
    }
   ],
   "source": [
    "def concatenate(**kwargs: str) -> str:\n",
    "    print(f\"{type(kwargs) = }\")\n",
    "\n",
    "    result = \"\"\n",
    "    for arg in kwargs.values():\n",
    "        result += arg\n",
    "    return result\n",
    "\n",
    "\n",
    "concatenate(a=\"Real\", b=\"Python\", c=\"Is\", d=\"Great\", e=\"!\")"
   ]
  },
  {
   "cell_type": "code",
   "execution_count": 62,
   "metadata": {},
   "outputs": [
    {
     "name": "stdout",
     "output_type": "stream",
     "text": [
      "type(kwargs) = <class 'dict'>\n"
     ]
    },
    {
     "data": {
      "text/plain": [
       "'RealPython'"
      ]
     },
     "execution_count": 62,
     "metadata": {},
     "output_type": "execute_result"
    }
   ],
   "source": [
    "concatenate(a=\"Real\", b=\"Python\")"
   ]
  },
  {
   "cell_type": "code",
   "execution_count": 64,
   "metadata": {
    "ExecuteTime": {
     "end_time": "2022-02-27T21:51:30.219158Z",
     "start_time": "2022-02-27T21:51:30.212828Z"
    }
   },
   "outputs": [
    {
     "name": "stdout",
     "output_type": "stream",
     "text": [
      "type(kwargs) = <class 'dict'>\n",
      "RealPythonIsGreat!\n"
     ]
    }
   ],
   "source": [
    "my_dict = {\n",
    "    'a': \"Real\",\n",
    "    'b': \"Python\",\n",
    "    'c': \"Is\",\n",
    "    'd': \"Great\",\n",
    "    'e': \"!\"\n",
    "}\n",
    "\n",
    "print(concatenate(**my_dict))"
   ]
  },
  {
   "cell_type": "markdown",
   "metadata": {},
   "source": [
    "- *args позволяет передавать произвольное число неименованных аргументов\n",
    "- **kwargs произвольное число именованных аргументов."
   ]
  },
  {
   "cell_type": "markdown",
   "metadata": {},
   "source": [
    "Если количество аргументов ключевого слова неизвестно, добавьте двойное значение ** перед именем параметра"
   ]
  },
  {
   "cell_type": "code",
   "execution_count": 67,
   "metadata": {
    "ExecuteTime": {
     "end_time": "2022-02-27T21:51:34.690573Z",
     "start_time": "2022-02-27T21:51:34.682798Z"
    }
   },
   "outputs": [
    {
     "name": "stdout",
     "output_type": "stream",
     "text": [
      "Her last name is Nikulina\n"
     ]
    }
   ],
   "source": [
    "def show_name(**kwargs) -> str:\n",
    "    print(\"Her last name is \" + kwargs[\"lname\"])\n",
    "\n",
    "\n",
    "params = {\n",
    "    'fname': \"Nastya\",\n",
    "    'lname': \"Nikulina\"\n",
    "}\n",
    "\n",
    "show_name(**params)"
   ]
  },
  {
   "cell_type": "markdown",
   "metadata": {},
   "source": [
    "## Итераторы"
   ]
  },
  {
   "cell_type": "markdown",
   "metadata": {},
   "source": [
    "**Итератор** — это интерфейс, предоставляющий доступ к элементам коллекции (массива или контейнера). Итератор только предоставляет доступ, но не выполняет итерацию по ним.\n",
    "\n",
    "Также есть такие понятия как:\n",
    "\n",
    "- Итерируемый объект - любой объект, имеющий методы __iter__ или __getitem__, которые возвращают итераторы или могут принимать индексы. Итерируемый объект – это объект, который может предоставить нам итератор\n",
    "- Итератор - объект, который имеет метод next (Python 2) или __next__\n",
    "- Итерация - это процесс получения элементов из какого-нибудь источника, например списка, если проще то – это процесс перебора элементов объекта в цикле. Если элементов в списке не осталось, то возвращает исключение StopIteration."
   ]
  },
  {
   "cell_type": "markdown",
   "metadata": {},
   "source": [
    "Давайте попробуем создать итератор, а также посмотреть, как он работает. "
   ]
  },
  {
   "cell_type": "code",
   "execution_count": 74,
   "metadata": {},
   "outputs": [
    {
     "name": "stdout",
     "output_type": "stream",
     "text": [
      "<class 'list_iterator'>\n"
     ]
    }
   ],
   "source": [
    "value = iter([1, 5, 3, 6])\n",
    "\n",
    "print(type(value))"
   ]
  },
  {
   "cell_type": "code",
   "execution_count": 75,
   "metadata": {},
   "outputs": [
    {
     "data": {
      "text/plain": [
       "<list_iterator at 0x7ff1701087c0>"
      ]
     },
     "execution_count": 75,
     "metadata": {},
     "output_type": "execute_result"
    }
   ],
   "source": [
    "value"
   ]
  },
  {
   "cell_type": "markdown",
   "metadata": {},
   "source": [
    "А теперь, попробуем получить элементы при помощи встроенного метода next() (можно также использовать __next__()"
   ]
  },
  {
   "cell_type": "code",
   "execution_count": 76,
   "metadata": {},
   "outputs": [
    {
     "name": "stdout",
     "output_type": "stream",
     "text": [
      "1\n"
     ]
    }
   ],
   "source": [
    "print(next(value))"
   ]
  },
  {
   "cell_type": "code",
   "execution_count": 77,
   "metadata": {},
   "outputs": [
    {
     "name": "stdout",
     "output_type": "stream",
     "text": [
      "5\n"
     ]
    }
   ],
   "source": [
    "print(next(value))"
   ]
  },
  {
   "cell_type": "code",
   "execution_count": 78,
   "metadata": {},
   "outputs": [
    {
     "name": "stdout",
     "output_type": "stream",
     "text": [
      "3\n"
     ]
    }
   ],
   "source": [
    "print(next(value))"
   ]
  },
  {
   "cell_type": "code",
   "execution_count": 79,
   "metadata": {},
   "outputs": [
    {
     "name": "stdout",
     "output_type": "stream",
     "text": [
      "6\n"
     ]
    }
   ],
   "source": [
    "print(next(value))"
   ]
  },
  {
   "cell_type": "markdown",
   "metadata": {},
   "source": [
    "Обратите внимание, как итератор сохраняет свое внутреннее состояние. Он знает, какие значения уже были получены, поэтому, когда вы вызываете next(), он знает, какое значение возвращать следующим.\n",
    "\n",
    "Что происходит, когда в итераторе заканчиваются значения? Давайте сделаем еще несколько вызовов next() для итератора:"
   ]
  },
  {
   "cell_type": "code",
   "execution_count": 80,
   "metadata": {},
   "outputs": [
    {
     "name": "stdout",
     "output_type": "stream",
     "text": [
      "1\n",
      "5\n",
      "3\n",
      "6\n"
     ]
    },
    {
     "ename": "StopIteration",
     "evalue": "",
     "output_type": "error",
     "traceback": [
      "\u001b[0;31m---------------------------------------------------------------------------\u001b[0m",
      "\u001b[0;31mStopIteration\u001b[0m                             Traceback (most recent call last)",
      "\u001b[0;32m<ipython-input-80-b3bc804c51e6>\u001b[0m in \u001b[0;36m<module>\u001b[0;34m\u001b[0m\n\u001b[1;32m      5\u001b[0m \u001b[0mprint\u001b[0m\u001b[0;34m(\u001b[0m\u001b[0mnext\u001b[0m\u001b[0;34m(\u001b[0m\u001b[0mvalue\u001b[0m\u001b[0;34m)\u001b[0m\u001b[0;34m)\u001b[0m\u001b[0;34m\u001b[0m\u001b[0;34m\u001b[0m\u001b[0m\n\u001b[1;32m      6\u001b[0m \u001b[0mprint\u001b[0m\u001b[0;34m(\u001b[0m\u001b[0mnext\u001b[0m\u001b[0;34m(\u001b[0m\u001b[0mvalue\u001b[0m\u001b[0;34m)\u001b[0m\u001b[0;34m)\u001b[0m\u001b[0;34m\u001b[0m\u001b[0;34m\u001b[0m\u001b[0m\n\u001b[0;32m----> 7\u001b[0;31m \u001b[0mprint\u001b[0m\u001b[0;34m(\u001b[0m\u001b[0mnext\u001b[0m\u001b[0;34m(\u001b[0m\u001b[0mvalue\u001b[0m\u001b[0;34m)\u001b[0m\u001b[0;34m)\u001b[0m\u001b[0;34m\u001b[0m\u001b[0;34m\u001b[0m\u001b[0m\n\u001b[0m",
      "\u001b[0;31mStopIteration\u001b[0m: "
     ]
    }
   ],
   "source": [
    "value = iter([1, 5, 3, 6])\n",
    "\n",
    "print(next(value))\n",
    "print(next(value))\n",
    "print(next(value))\n",
    "print(next(value))\n",
    "print(next(value))"
   ]
  },
  {
   "cell_type": "code",
   "execution_count": 81,
   "metadata": {},
   "outputs": [
    {
     "ename": "StopIteration",
     "evalue": "",
     "output_type": "error",
     "traceback": [
      "\u001b[0;31m---------------------------------------------------------------------------\u001b[0m",
      "\u001b[0;31mStopIteration\u001b[0m                             Traceback (most recent call last)",
      "\u001b[0;32m<ipython-input-81-8d61d7bd92bd>\u001b[0m in \u001b[0;36m<module>\u001b[0;34m\u001b[0m\n\u001b[0;32m----> 1\u001b[0;31m \u001b[0mprint\u001b[0m\u001b[0;34m(\u001b[0m\u001b[0mnext\u001b[0m\u001b[0;34m(\u001b[0m\u001b[0mvalue\u001b[0m\u001b[0;34m)\u001b[0m\u001b[0;34m)\u001b[0m\u001b[0;34m\u001b[0m\u001b[0;34m\u001b[0m\u001b[0m\n\u001b[0m",
      "\u001b[0;31mStopIteration\u001b[0m: "
     ]
    }
   ],
   "source": [
    "print(next(value))"
   ]
  },
  {
   "cell_type": "markdown",
   "metadata": {},
   "source": [
    "Если все значения из итератора уже возвращены, последующий вызов next() вызывает исключение StopIteration. Любые дальнейшие попытки получить значения из итератора завершатся неудачей.\n",
    "\n",
    "В Python у каждого итератора присутствует метод __iter__ - то есть, любой итератор является итерируемым объектом. Этот метод просто возвращает сам итератор.\n",
    "\n",
    "**Какие типы данных можно итерировать:**\n",
    "- Строки\n",
    "- Списки\n",
    "- Кортежи\n",
    "- Словари\n",
    "- Множества (set и frozenset)"
   ]
  },
  {
   "cell_type": "code",
   "execution_count": 83,
   "metadata": {},
   "outputs": [
    {
     "name": "stdout",
     "output_type": "stream",
     "text": [
      "<str_iterator object at 0x7ff170102880>\n",
      "<list_iterator object at 0x7ff170102cd0>\n",
      "<tuple_iterator object at 0x7ff170102880>\n",
      "<set_iterator object at 0x7ff1781bfe80>\n",
      "<dict_keyiterator object at 0x7ff1992bcb80>\n"
     ]
    }
   ],
   "source": [
    "# string\n",
    "print(iter('python'))\n",
    "\n",
    "# list\n",
    "print(iter(['python', 'sql']))\n",
    "\n",
    "# tuple\n",
    "print(iter((('python', 'sql'))))\n",
    "\n",
    "# set\n",
    "print(iter({'python', 'sql'}))\n",
    "\n",
    "# dict\n",
    "print(iter({1: 'python', 2: 'sql'}))"
   ]
  },
  {
   "cell_type": "markdown",
   "metadata": {},
   "source": [
    "Нельзя:\n",
    "\n",
    "- Числовые значения"
   ]
  },
  {
   "cell_type": "code",
   "execution_count": 84,
   "metadata": {},
   "outputs": [
    {
     "ename": "TypeError",
     "evalue": "'float' object is not iterable",
     "output_type": "error",
     "traceback": [
      "\u001b[0;31m---------------------------------------------------------------------------\u001b[0m",
      "\u001b[0;31mTypeError\u001b[0m                                 Traceback (most recent call last)",
      "\u001b[0;32m<ipython-input-84-7a85c64c2917>\u001b[0m in \u001b[0;36m<module>\u001b[0;34m\u001b[0m\n\u001b[0;32m----> 1\u001b[0;31m \u001b[0mprint\u001b[0m\u001b[0;34m(\u001b[0m\u001b[0miter\u001b[0m\u001b[0;34m(\u001b[0m\u001b[0;36m10.12\u001b[0m\u001b[0;34m)\u001b[0m\u001b[0;34m)\u001b[0m\u001b[0;34m\u001b[0m\u001b[0;34m\u001b[0m\u001b[0m\n\u001b[0m",
      "\u001b[0;31mTypeError\u001b[0m: 'float' object is not iterable"
     ]
    }
   ],
   "source": [
    "print(iter(10.12))"
   ]
  },
  {
   "cell_type": "code",
   "execution_count": 85,
   "metadata": {},
   "outputs": [
    {
     "ename": "TypeError",
     "evalue": "'int' object is not iterable",
     "output_type": "error",
     "traceback": [
      "\u001b[0;31m---------------------------------------------------------------------------\u001b[0m",
      "\u001b[0;31mTypeError\u001b[0m                                 Traceback (most recent call last)",
      "\u001b[0;32m<ipython-input-85-f4c92289891a>\u001b[0m in \u001b[0;36m<module>\u001b[0;34m\u001b[0m\n\u001b[0;32m----> 1\u001b[0;31m \u001b[0mprint\u001b[0m\u001b[0;34m(\u001b[0m\u001b[0miter\u001b[0m\u001b[0;34m(\u001b[0m\u001b[0;36m10\u001b[0m\u001b[0;34m)\u001b[0m\u001b[0;34m)\u001b[0m\u001b[0;34m\u001b[0m\u001b[0;34m\u001b[0m\u001b[0m\n\u001b[0m",
      "\u001b[0;31mTypeError\u001b[0m: 'int' object is not iterable"
     ]
    }
   ],
   "source": [
    "print(iter(10))"
   ]
  },
  {
   "cell_type": "code",
   "execution_count": 88,
   "metadata": {},
   "outputs": [],
   "source": [
    "str_test = iter({1: 'python', 2: 'sql'})"
   ]
  },
  {
   "cell_type": "code",
   "execution_count": 89,
   "metadata": {},
   "outputs": [
    {
     "data": {
      "text/plain": [
       "1"
      ]
     },
     "execution_count": 89,
     "metadata": {},
     "output_type": "execute_result"
    }
   ],
   "source": [
    "next(str_test)"
   ]
  },
  {
   "cell_type": "code",
   "execution_count": 90,
   "metadata": {},
   "outputs": [
    {
     "data": {
      "text/plain": [
       "2"
      ]
     },
     "execution_count": 90,
     "metadata": {},
     "output_type": "execute_result"
    }
   ],
   "source": [
    "next(str_test)"
   ]
  },
  {
   "cell_type": "code",
   "execution_count": 91,
   "metadata": {},
   "outputs": [
    {
     "ename": "StopIteration",
     "evalue": "",
     "output_type": "error",
     "traceback": [
      "\u001b[0;31m---------------------------------------------------------------------------\u001b[0m",
      "\u001b[0;31mStopIteration\u001b[0m                             Traceback (most recent call last)",
      "\u001b[0;32m<ipython-input-91-f9ee1e0976d4>\u001b[0m in \u001b[0;36m<module>\u001b[0;34m\u001b[0m\n\u001b[0;32m----> 1\u001b[0;31m \u001b[0mnext\u001b[0m\u001b[0;34m(\u001b[0m\u001b[0mstr_test\u001b[0m\u001b[0;34m)\u001b[0m\u001b[0;34m\u001b[0m\u001b[0;34m\u001b[0m\u001b[0m\n\u001b[0m",
      "\u001b[0;31mStopIteration\u001b[0m: "
     ]
    }
   ],
   "source": [
    "next(str_test)"
   ]
  },
  {
   "cell_type": "markdown",
   "metadata": {},
   "source": [
    "Но это ни в коем случае не единственные типы, которые вы можете перебирать. Многие объекты, встроенные в Python или в определенные в модули, предназначены для итераций. Например, файлы, их в Python можно итерировать. Фактически, почти любой объект в Python можно сделать итеративным. Даже пользовательские объекты могут быть спроектированы таким образом, чтобы их можно было повторять."
   ]
  },
  {
   "cell_type": "markdown",
   "metadata": {},
   "source": [
    "### Случай двух итераторов"
   ]
  },
  {
   "cell_type": "markdown",
   "metadata": {},
   "source": [
    "Если итератор value1 уже находится в конце списка, value2 все еще находится в начале. Каждый итератор поддерживает свое собственное внутреннее состояние, независимое от другого."
   ]
  },
  {
   "cell_type": "code",
   "execution_count": 92,
   "metadata": {},
   "outputs": [
    {
     "name": "stdout",
     "output_type": "stream",
     "text": [
      "1\n",
      "2\n",
      "1\n",
      "2\n"
     ]
    }
   ],
   "source": [
    "lst = [1, 2, 3, 4]\n",
    "\n",
    "value1 = iter(lst)\n",
    "value2 = iter(lst)\n",
    "\n",
    "\n",
    "print(next(value1))\n",
    "# Вывод: 1\n",
    "\n",
    "print(next(value1))\n",
    "# Вывод: 2\n",
    "\n",
    "print(next(value2))\n",
    "# Вывод: 1\n",
    "\n",
    "print(next(value2))\n",
    "# Вывод: 2"
   ]
  },
  {
   "cell_type": "code",
   "execution_count": 93,
   "metadata": {},
   "outputs": [
    {
     "data": {
      "text/plain": [
       "140675751561344"
      ]
     },
     "execution_count": 93,
     "metadata": {},
     "output_type": "execute_result"
    }
   ],
   "source": [
    "id(value1)"
   ]
  },
  {
   "cell_type": "code",
   "execution_count": 94,
   "metadata": {},
   "outputs": [
    {
     "data": {
      "text/plain": [
       "140675751561008"
      ]
     },
     "execution_count": 94,
     "metadata": {},
     "output_type": "execute_result"
    }
   ],
   "source": [
    "id(value2)"
   ]
  },
  {
   "cell_type": "markdown",
   "metadata": {},
   "source": [
    "Где итераторы?\n",
    "\n",
    "всюду"
   ]
  },
  {
   "cell_type": "code",
   "execution_count": 98,
   "metadata": {},
   "outputs": [
    {
     "data": {
      "text/plain": [
       "<enumerate at 0x7ff1781ee400>"
      ]
     },
     "execution_count": 98,
     "metadata": {},
     "output_type": "execute_result"
    }
   ],
   "source": [
    "example = [6, 2, 4, 7]\n",
    "\n",
    "example_en = enumerate(example)\n",
    "example_en"
   ]
  },
  {
   "cell_type": "code",
   "execution_count": 99,
   "metadata": {},
   "outputs": [
    {
     "data": {
      "text/plain": [
       "(0, 6)"
      ]
     },
     "execution_count": 99,
     "metadata": {},
     "output_type": "execute_result"
    }
   ],
   "source": [
    "next(example_en)"
   ]
  },
  {
   "cell_type": "code",
   "execution_count": 109,
   "metadata": {},
   "outputs": [
    {
     "data": {
      "text/plain": [
       "(3, 7)"
      ]
     },
     "execution_count": 109,
     "metadata": {},
     "output_type": "execute_result"
    }
   ],
   "source": [
    "next(example_en)"
   ]
  },
  {
   "cell_type": "code",
   "execution_count": 101,
   "metadata": {},
   "outputs": [
    {
     "name": "stdout",
     "output_type": "stream",
     "text": [
      "0 6\n",
      "1 2\n",
      "2 4\n",
      "3 7\n"
     ]
    }
   ],
   "source": [
    "for idx, value in enumerate(example):\n",
    "    print(idx, value)"
   ]
  },
  {
   "cell_type": "code",
   "execution_count": 103,
   "metadata": {},
   "outputs": [
    {
     "data": {
      "text/plain": [
       "<zip at 0x7ff1781de040>"
      ]
     },
     "execution_count": 103,
     "metadata": {},
     "output_type": "execute_result"
    }
   ],
   "source": [
    "example = [100, 110, 40, 75]\n",
    "lst_str = ['client1', 'client2', 'client3', 'client4']\n",
    "\n",
    "z = zip(lst_str, example)\n",
    "z"
   ]
  },
  {
   "cell_type": "code",
   "execution_count": 104,
   "metadata": {},
   "outputs": [
    {
     "data": {
      "text/plain": [
       "[100, 110, 40, 75]"
      ]
     },
     "execution_count": 104,
     "metadata": {},
     "output_type": "execute_result"
    }
   ],
   "source": [
    "example"
   ]
  },
  {
   "cell_type": "code",
   "execution_count": 105,
   "metadata": {},
   "outputs": [
    {
     "data": {
      "text/plain": [
       "('client1', 100)"
      ]
     },
     "execution_count": 105,
     "metadata": {},
     "output_type": "execute_result"
    }
   ],
   "source": [
    "next(z)"
   ]
  },
  {
   "cell_type": "code",
   "execution_count": 106,
   "metadata": {},
   "outputs": [
    {
     "data": {
      "text/plain": [
       "('client2', 110)"
      ]
     },
     "execution_count": 106,
     "metadata": {},
     "output_type": "execute_result"
    }
   ],
   "source": [
    "next(z)"
   ]
  },
  {
   "cell_type": "code",
   "execution_count": 107,
   "metadata": {},
   "outputs": [
    {
     "data": {
      "text/plain": [
       "('client3', 40)"
      ]
     },
     "execution_count": 107,
     "metadata": {},
     "output_type": "execute_result"
    }
   ],
   "source": [
    "next(z)"
   ]
  },
  {
   "cell_type": "markdown",
   "metadata": {},
   "source": [
    "## Генераторы"
   ]
  },
  {
   "cell_type": "markdown",
   "metadata": {},
   "source": [
    "Если общее количество объектов, возвращаемых итератором, очень велико, это может занять много времени и память. Поэтому для случаев, когда объектов много и они потенциально могут занять большую часть ресурсов удобно использовать генераторы.\n",
    "\n",
    "**Генераторы** – это итераторы, по которым можно итерировать только один раз. Так происходит поскольку они не хранят все свои значения в памяти, а генерируют элементы как бы \"на ходу\".\n",
    "\n",
    "В отличие от списков, они ленивы и поэтому работают с текущим элемент только по запросу. Таким образом, они намного эффективнее используют память при работе с большими наборами данных.\n",
    "\n",
    "\n",
    "**Зачем нужны генераторы?**\n",
    "\n",
    "Это средство отложенных вычислений. Значения вычисляются только тогда, когда они действительно необходимы. Это намного удобнее, если мы, например, будем за раз вычислять огромный список и еще держать его в памяти. \n",
    "\n",
    "Генераторы можно использовать с циклом for или любой другой функцией или конструкцией, которые позволяют итерировать по объекту. В большинстве случаев генераторы создаются как функции. Тем не менее, они не возвращают значение также как функции (т.е. через return), в генераторах для этого используется ключевое слово yield.\n"
   ]
  },
  {
   "cell_type": "code",
   "execution_count": 110,
   "metadata": {},
   "outputs": [
    {
     "name": "stdout",
     "output_type": "stream",
     "text": [
      "<generator object <genexpr> at 0x7ff1781c6ba0>\n",
      "0\n",
      "1\n",
      "4\n"
     ]
    }
   ],
   "source": [
    "genexpr = (x**2 for x in range(10000))\n",
    "\n",
    "print(genexpr)\n",
    "# <generator object <genexpr> at .....>\n",
    "\n",
    "print(next(genexpr))\n",
    "# Вывод: 0\n",
    "\n",
    "print(next(genexpr))\n",
    "# Вывод: 1\n",
    "\n",
    "print(next(genexpr))\n",
    "# Вывод: 4"
   ]
  },
  {
   "cell_type": "code",
   "execution_count": 111,
   "metadata": {},
   "outputs": [
    {
     "name": "stdout",
     "output_type": "stream",
     "text": [
      "9\n"
     ]
    }
   ],
   "source": [
    "print(next(genexpr))"
   ]
  },
  {
   "cell_type": "markdown",
   "metadata": {},
   "source": [
    "Посмотрим при помощи метода getsizeof в пакете sys, сколько объема памяти занимает список из 100 элементов и генераторе, который генерирует те же 100 элементов"
   ]
  },
  {
   "cell_type": "code",
   "execution_count": 115,
   "metadata": {},
   "outputs": [
    {
     "name": "stdout",
     "output_type": "stream",
     "text": [
      "list 8697456\n",
      "generator 112\n"
     ]
    }
   ],
   "source": [
    "import sys\n",
    "\n",
    "\n",
    "# Чем больше будет кол-во объектов, тем больше будут различия в занимаемой памяти.\n",
    "list_ex = [x**2 for x in range(1000000)]\n",
    "print('list', sys.getsizeof(list_ex))\n",
    "\n",
    "genexpr = (x**2 for x in range(1000000))\n",
    "print('generator', sys.getsizeof(genexpr))"
   ]
  },
  {
   "cell_type": "code",
   "execution_count": 113,
   "metadata": {},
   "outputs": [
    {
     "data": {
      "text/plain": [
       "77655.85714285714"
      ]
     },
     "execution_count": 113,
     "metadata": {},
     "output_type": "execute_result"
    }
   ],
   "source": [
    "8697456/112"
   ]
  },
  {
   "cell_type": "markdown",
   "metadata": {},
   "source": [
    "### yield "
   ]
  },
  {
   "cell_type": "markdown",
   "metadata": {},
   "source": [
    "Ключевое слово **yield**, в отличие от оператора return, используется для превращения обычной функции Python в генератор. Оно используется в качестве альтернативы одновременному возвращению целого списка.\n",
    "\n",
    "yield используют не потому, что это определено синтаксисом Python, ведь всё, что можно реализовать с его помощью, можно реализовать и с помощью обычного return.\n",
    "Программисты предпочитают применять генераторы в тех случаях, когда нет необходимости сохранять всю последовательность и промежуточные значения в памяти.\n",
    "\n",
    "\n",
    "Создадим функцию, которая на вход будет принимать список значений и возвращать список, где к каждому из значению добавляется 1:"
   ]
  },
  {
   "cell_type": "code",
   "execution_count": 117,
   "metadata": {},
   "outputs": [
    {
     "name": "stdout",
     "output_type": "stream",
     "text": [
      "<class 'list'>\n",
      "[11, 12, 13]\n"
     ]
    }
   ],
   "source": [
    "def my_function(counts: List[int]) -> List[int]:\n",
    "    arr = []\n",
    "    # arr = [x+1 for x in counts]\n",
    "    for count in counts:\n",
    "        arr.append(count + 1)\n",
    "    return arr\n",
    "\n",
    "\n",
    "res = my_function([10, 11, 12])\n",
    "\n",
    "print(type(res))\n",
    "print(res)"
   ]
  },
  {
   "cell_type": "markdown",
   "metadata": {},
   "source": [
    "Теперь вместо return напишем yield, запишем его под цикл и посмотрим на тип данных, а также значения"
   ]
  },
  {
   "cell_type": "code",
   "execution_count": 136,
   "metadata": {
    "ExecuteTime": {
     "end_time": "2022-02-27T21:55:17.219859Z",
     "start_time": "2022-02-27T21:55:17.209966Z"
    }
   },
   "outputs": [
    {
     "name": "stdout",
     "output_type": "stream",
     "text": [
      "<class 'generator'>\n",
      "<generator object my_function at 0x7ff1781c6c10>\n"
     ]
    }
   ],
   "source": [
    "from typing import Generator\n",
    "\n",
    "# Generator[yield_type, send_type, return_type]\n",
    "# Либо Iterator[Union[int, float]]\n",
    "# https://docs.python.org/3/library/typing.html#typing.Generator\n",
    "\n",
    "\n",
    "def my_function(counts: List[int]) -> Generator[list, None, None]:\n",
    "    arr = []\n",
    "    for count in counts:\n",
    "        arr.append(count+1)\n",
    "        yield arr\n",
    "\n",
    "\n",
    "res = my_function([10, 11, 12])\n",
    "\n",
    "print(type(res))\n",
    "print(res)"
   ]
  },
  {
   "cell_type": "code",
   "execution_count": 137,
   "metadata": {},
   "outputs": [
    {
     "data": {
      "text/plain": [
       "[11]"
      ]
     },
     "execution_count": 137,
     "metadata": {},
     "output_type": "execute_result"
    }
   ],
   "source": [
    "next(res)"
   ]
  },
  {
   "cell_type": "code",
   "execution_count": 138,
   "metadata": {},
   "outputs": [
    {
     "data": {
      "text/plain": [
       "[11, 12]"
      ]
     },
     "execution_count": 138,
     "metadata": {},
     "output_type": "execute_result"
    }
   ],
   "source": [
    "next(res)"
   ]
  },
  {
   "cell_type": "code",
   "execution_count": 139,
   "metadata": {},
   "outputs": [
    {
     "data": {
      "text/plain": [
       "[11, 12, 13]"
      ]
     },
     "execution_count": 139,
     "metadata": {},
     "output_type": "execute_result"
    }
   ],
   "source": [
    "next(res)"
   ]
  },
  {
   "cell_type": "code",
   "execution_count": null,
   "metadata": {},
   "outputs": [],
   "source": []
  },
  {
   "cell_type": "code",
   "execution_count": 127,
   "metadata": {},
   "outputs": [],
   "source": [
    "def infinite_stream(start: int) -> Generator[int, None, None]:\n",
    "    while True:\n",
    "        yield start\n",
    "        start += 2.4\n",
    "\n",
    "\n",
    "res = infinite_stream(1)"
   ]
  },
  {
   "cell_type": "code",
   "execution_count": 128,
   "metadata": {},
   "outputs": [
    {
     "data": {
      "text/plain": [
       "1"
      ]
     },
     "execution_count": 128,
     "metadata": {},
     "output_type": "execute_result"
    }
   ],
   "source": [
    "next(res)"
   ]
  },
  {
   "cell_type": "code",
   "execution_count": 129,
   "metadata": {},
   "outputs": [
    {
     "data": {
      "text/plain": [
       "3.4"
      ]
     },
     "execution_count": 129,
     "metadata": {},
     "output_type": "execute_result"
    }
   ],
   "source": [
    "next(res)"
   ]
  },
  {
   "cell_type": "code",
   "execution_count": 130,
   "metadata": {},
   "outputs": [
    {
     "data": {
      "text/plain": [
       "5.8"
      ]
     },
     "execution_count": 130,
     "metadata": {},
     "output_type": "execute_result"
    }
   ],
   "source": [
    "next(res)"
   ]
  },
  {
   "cell_type": "code",
   "execution_count": 131,
   "metadata": {},
   "outputs": [
    {
     "data": {
      "text/plain": [
       "8.2"
      ]
     },
     "execution_count": 131,
     "metadata": {},
     "output_type": "execute_result"
    }
   ],
   "source": [
    "next(res)"
   ]
  },
  {
   "cell_type": "markdown",
   "metadata": {},
   "source": [
    "В первый запуск вашей функции, она будет исполняться от начала до того момента, когда она наткнётся на yield — тогда она вернёт первое значение из цикла. На каждый следующий вызов будет происходить ещё одна итерация написанного вами цикла, возвращаться будет следующее значение — и так пока значения не кончатся."
   ]
  },
  {
   "cell_type": "markdown",
   "metadata": {},
   "source": [
    "## lambda"
   ]
  },
  {
   "cell_type": "markdown",
   "metadata": {},
   "source": [
    "**Лябмда-выражения** — это особый синтаксис в Python, необходимый для создания анонимных функций. Лямбда-выражения в Python позволяют функции быть созданной и переданной (зачастую другой функции) в одной строчке кода.\n",
    "\n",
    "Давайте рассмотрим пример для большей наглядности, есть какая-то функция, которая вызывает саму себя, она принимает только один аргумент:"
   ]
  },
  {
   "cell_type": "code",
   "execution_count": 143,
   "metadata": {},
   "outputs": [
    {
     "data": {
      "text/plain": [
       "3"
      ]
     },
     "execution_count": 143,
     "metadata": {},
     "output_type": "execute_result"
    }
   ],
   "source": [
    "def func(x):\n",
    "    return x\n",
    "\n",
    "\n",
    "func(3)"
   ]
  },
  {
   "cell_type": "markdown",
   "metadata": {},
   "source": [
    "Если мы попробуем это записать при помощи лямбда выражения, то получим:"
   ]
  },
  {
   "cell_type": "code",
   "execution_count": 144,
   "metadata": {},
   "outputs": [
    {
     "data": {
      "text/plain": [
       "<function __main__.<lambda>(x)>"
      ]
     },
     "execution_count": 144,
     "metadata": {},
     "output_type": "execute_result"
    }
   ],
   "source": [
    "lambda x: x"
   ]
  },
  {
   "cell_type": "markdown",
   "metadata": {},
   "source": [
    "сначала идет название самого выражения – лямбда, для обозначения такой функции, далее аргумент, который подаем на вход функции и через двоеточие само выражение, значение которого нужно вернуть, но обязательно, используя ранее объявленный аргумент или аргументы после лямбда."
   ]
  },
  {
   "cell_type": "markdown",
   "metadata": {},
   "source": [
    "Давайте попробуем написать усложнённый пример, сначала начнем с простой функции"
   ]
  },
  {
   "cell_type": "code",
   "execution_count": 145,
   "metadata": {},
   "outputs": [
    {
     "name": "stdout",
     "output_type": "stream",
     "text": [
      "4\n"
     ]
    }
   ],
   "source": [
    "def my_function(x):\n",
    "    return x + 1\n",
    "\n",
    "\n",
    "print(my_function(3))"
   ]
  },
  {
   "cell_type": "markdown",
   "metadata": {},
   "source": [
    "Перепишем в вид лямбда-выражения"
   ]
  },
  {
   "cell_type": "code",
   "execution_count": 146,
   "metadata": {},
   "outputs": [
    {
     "data": {
      "text/plain": [
       "<function __main__.<lambda>(x)>"
      ]
     },
     "execution_count": 146,
     "metadata": {},
     "output_type": "execute_result"
    }
   ],
   "source": [
    "lambda x: x + 1"
   ]
  },
  {
   "cell_type": "markdown",
   "metadata": {},
   "source": [
    "Если мы хотим подать значение на вход лямбда функции, то необходимо все выражение поместить в скобки и рядом также в скобках указать значение"
   ]
  },
  {
   "cell_type": "code",
   "execution_count": 148,
   "metadata": {},
   "outputs": [
    {
     "data": {
      "text/plain": [
       "4"
      ]
     },
     "execution_count": 148,
     "metadata": {},
     "output_type": "execute_result"
    }
   ],
   "source": [
    "(lambda x: x + 1)(3)"
   ]
  },
  {
   "cell_type": "markdown",
   "metadata": {},
   "source": [
    "В функциях вы можете использовать несколько переменных, а также и ранее объявленные функции, в лямбда-выражении все аналогично:"
   ]
  },
  {
   "cell_type": "code",
   "execution_count": 150,
   "metadata": {},
   "outputs": [
    {
     "data": {
      "text/plain": [
       "13"
      ]
     },
     "execution_count": 150,
     "metadata": {},
     "output_type": "execute_result"
    }
   ],
   "source": [
    "def my_function(x, y, z): \n",
    "    return x + y + z\n",
    "\n",
    "\n",
    "my_function(3, 9, 1)"
   ]
  },
  {
   "cell_type": "markdown",
   "metadata": {},
   "source": [
    "- В lambda x, y: x + y; x и y являются аргументами функции, а x + y – это выражение, которое выполняется, и его значения возвращаются в качестве вывода.\n",
    "\n",
    "- lambda x, y: x + y возвращает объект функции, который может быть назначен любой переменной, в этом случае функциональный объект присваивается переменной val."
   ]
  },
  {
   "cell_type": "code",
   "execution_count": 151,
   "metadata": {},
   "outputs": [
    {
     "data": {
      "text/plain": [
       "13"
      ]
     },
     "execution_count": 151,
     "metadata": {},
     "output_type": "execute_result"
    }
   ],
   "source": [
    "(lambda x, y, z: x + y + z)(3, 9, 1)"
   ]
  },
  {
   "cell_type": "markdown",
   "metadata": {},
   "source": [
    "## map()"
   ]
  },
  {
   "cell_type": "markdown",
   "metadata": {},
   "source": [
    "Функция map первым аргументом ожидает объект функции и любое количество объектов для перебора, таких как dict или list. Он выполняет function_object – функцию для каждого элемента в последовательности и возвращает список элементов, измененных объектом функции."
   ]
  },
  {
   "cell_type": "code",
   "execution_count": 154,
   "metadata": {},
   "outputs": [
    {
     "name": "stdout",
     "output_type": "stream",
     "text": [
      "[2, 4, 6, 8]\n",
      "[12, 4, 6, 8]\n"
     ]
    }
   ],
   "source": [
    "l = [1, 2, 3, 4]\n",
    "print([x * 2 for x in l])\n",
    "\n",
    "l = [6, 2, 3, 4]\n",
    "print([x * 2 for x in l])"
   ]
  },
  {
   "cell_type": "code",
   "execution_count": 164,
   "metadata": {
    "ExecuteTime": {
     "end_time": "2022-02-27T21:56:15.076045Z",
     "start_time": "2022-02-27T21:56:15.070582Z"
    }
   },
   "outputs": [
    {
     "name": "stdout",
     "output_type": "stream",
     "text": [
      "<map object at 0x7ff180253520>\n",
      "2\n",
      "4\n",
      "6\n",
      "8\n"
     ]
    }
   ],
   "source": [
    "def multiply(x: int) -> int:\n",
    "    return x * 2\n",
    "\n",
    "\n",
    "val = map(multiply, [1, 2, 3, 4])\n",
    "print(val)\n",
    "\n",
    "for x in val:\n",
    "    print(x)"
   ]
  },
  {
   "cell_type": "code",
   "execution_count": 165,
   "metadata": {},
   "outputs": [
    {
     "name": "stdout",
     "output_type": "stream",
     "text": [
      "<map object at 0x7ff180248940>\n",
      "2\n",
      "4\n",
      "6\n",
      "8\n"
     ]
    }
   ],
   "source": [
    "def multiply(x: int) -> int:\n",
    "    return x * 2\n",
    "\n",
    "\n",
    "val = map(multiply, (1, 2, 3, 4))\n",
    "print(val)\n",
    "\n",
    "for x in val:\n",
    "    print(x)"
   ]
  },
  {
   "cell_type": "code",
   "execution_count": 158,
   "metadata": {},
   "outputs": [
    {
     "data": {
      "text/plain": [
       "[2, 4, 6, 8]"
      ]
     },
     "execution_count": 158,
     "metadata": {},
     "output_type": "execute_result"
    }
   ],
   "source": [
    "list(map(multiply, [1, 2, 3, 4]))"
   ]
  },
  {
   "cell_type": "markdown",
   "metadata": {},
   "source": [
    "В приведенном выше примере map выполняет функцию multiply для каждого элемента в списке [1, 2, 3, 4] и возвращает поочередно в цикле числа 2, 4, 6, 8. Будьте аккуратны, так как просто при выводе val у вас вернет объект класса map. Поэтому, вы можете использовать не только цикл для вывода объектов, но и метод next(), так как объекты итерируемые."
   ]
  },
  {
   "cell_type": "markdown",
   "metadata": {},
   "source": [
    "Давайте посмотрим, как мы можем написать приведенный выше код с помощью map и lambda."
   ]
  },
  {
   "cell_type": "code",
   "execution_count": 159,
   "metadata": {},
   "outputs": [
    {
     "name": "stdout",
     "output_type": "stream",
     "text": [
      "2\n",
      "4\n",
      "6\n",
      "8\n",
      "<map object at 0x7ff17010f7c0>\n",
      "[1, 2, 3, 4]\n"
     ]
    }
   ],
   "source": [
    "lst = [1, 2, 3, 4]\n",
    "\n",
    "val = map(lambda x: x * 2, lst)\n",
    "\n",
    "for x in val:\n",
    "    print(x)\n",
    "\n",
    "print(val)\n",
    "print(lst)"
   ]
  },
  {
   "cell_type": "code",
   "execution_count": 162,
   "metadata": {},
   "outputs": [
    {
     "data": {
      "text/plain": [
       "[2, 4, 6, 8]"
      ]
     },
     "execution_count": 162,
     "metadata": {},
     "output_type": "execute_result"
    }
   ],
   "source": [
    "list(map(lambda x: x * 2, [1, 2, 3, 4]))"
   ]
  },
  {
   "cell_type": "markdown",
   "metadata": {},
   "source": [
    "## filter()"
   ]
  },
  {
   "cell_type": "markdown",
   "metadata": {},
   "source": [
    "Функция filter ожидает два аргумента, function_object – функцию и iterable. function_object должна возвращать логическое значение. function_object вызывается для каждого элемента итерации, и фильтр возвращает только те элементы, для которых function_object возвращает true."
   ]
  },
  {
   "cell_type": "code",
   "execution_count": 163,
   "metadata": {},
   "outputs": [
    {
     "name": "stdout",
     "output_type": "stream",
     "text": [
      "2\n",
      "4\n",
      "6\n"
     ]
    }
   ],
   "source": [
    "a = [1, 2, 3, 4, 5, 6]\n",
    "val = filter(lambda x: x % 2 == 0, a)\n",
    "\n",
    "for x in val:\n",
    "    print(x)"
   ]
  },
  {
   "cell_type": "code",
   "execution_count": 167,
   "metadata": {},
   "outputs": [
    {
     "data": {
      "text/plain": [
       "[2, 4, 6]"
      ]
     },
     "execution_count": 167,
     "metadata": {},
     "output_type": "execute_result"
    }
   ],
   "source": [
    "lst = list(filter(lambda x : x % 2 == 0, a))\n",
    "# lst = [x for x in a if x % 2 == 0]\n",
    "lst"
   ]
  },
  {
   "cell_type": "markdown",
   "metadata": {},
   "source": [
    "Так как мы получаем итерируемый объект, что при filter и map, то и получать доступ к нему можем соответствующим образом."
   ]
  },
  {
   "cell_type": "code",
   "execution_count": 168,
   "metadata": {},
   "outputs": [],
   "source": [
    "lst = [1, 2, 3, 4, 5, 6]\n",
    "val = filter(lambda x: x > 4, lst)"
   ]
  },
  {
   "cell_type": "code",
   "execution_count": 169,
   "metadata": {},
   "outputs": [
    {
     "data": {
      "text/plain": [
       "5"
      ]
     },
     "execution_count": 169,
     "metadata": {},
     "output_type": "execute_result"
    }
   ],
   "source": [
    "next(val)"
   ]
  },
  {
   "cell_type": "code",
   "execution_count": 170,
   "metadata": {},
   "outputs": [
    {
     "data": {
      "text/plain": [
       "6"
      ]
     },
     "execution_count": 170,
     "metadata": {},
     "output_type": "execute_result"
    }
   ],
   "source": [
    "next(val)"
   ]
  },
  {
   "cell_type": "code",
   "execution_count": 171,
   "metadata": {},
   "outputs": [
    {
     "ename": "StopIteration",
     "evalue": "",
     "output_type": "error",
     "traceback": [
      "\u001b[0;31m---------------------------------------------------------------------------\u001b[0m",
      "\u001b[0;31mStopIteration\u001b[0m                             Traceback (most recent call last)",
      "\u001b[0;32m<ipython-input-171-a2a2bf9708c5>\u001b[0m in \u001b[0;36m<module>\u001b[0;34m\u001b[0m\n\u001b[0;32m----> 1\u001b[0;31m \u001b[0mnext\u001b[0m\u001b[0;34m(\u001b[0m\u001b[0mval\u001b[0m\u001b[0;34m)\u001b[0m\u001b[0;34m\u001b[0m\u001b[0;34m\u001b[0m\u001b[0m\n\u001b[0m",
      "\u001b[0;31mStopIteration\u001b[0m: "
     ]
    }
   ],
   "source": [
    "next(val)"
   ]
  },
  {
   "cell_type": "markdown",
   "metadata": {},
   "source": [
    "Возврат делать нельзя, но можно писать свои итераторы https://docs.python.org/3/tutorial/classes.html#iterators"
   ]
  },
  {
   "cell_type": "markdown",
   "metadata": {},
   "source": [
    "# Исключения"
   ]
  },
  {
   "cell_type": "markdown",
   "metadata": {},
   "source": [
    "Свои типы исключений\n",
    "\n",
    "https://habr.com/ru/company/piter/blog/537642/"
   ]
  },
  {
   "cell_type": "markdown",
   "metadata": {},
   "source": [
    "**Исключения (exceptions)** - ещё один тип данных в python. Исключения необходимы для того, чтобы сообщать программисту об ошибках."
   ]
  },
  {
   "cell_type": "code",
   "execution_count": 172,
   "metadata": {},
   "outputs": [
    {
     "ename": "ZeroDivisionError",
     "evalue": "division by zero",
     "output_type": "error",
     "traceback": [
      "\u001b[0;31m---------------------------------------------------------------------------\u001b[0m",
      "\u001b[0;31mZeroDivisionError\u001b[0m                         Traceback (most recent call last)",
      "\u001b[0;32m<ipython-input-172-189a55aa80f1>\u001b[0m in \u001b[0;36m<module>\u001b[0;34m\u001b[0m\n\u001b[1;32m      2\u001b[0m \u001b[0;34m\u001b[0m\u001b[0m\n\u001b[1;32m      3\u001b[0m \u001b[0;34m\u001b[0m\u001b[0m\n\u001b[0;32m----> 4\u001b[0;31m \u001b[0;36m100\u001b[0m \u001b[0;34m/\u001b[0m \u001b[0;36m0\u001b[0m\u001b[0;34m\u001b[0m\u001b[0;34m\u001b[0m\u001b[0m\n\u001b[0m",
      "\u001b[0;31mZeroDivisionError\u001b[0m: division by zero"
     ]
    }
   ],
   "source": [
    "# Самый простейший пример исключения - деление на ноль:\n",
    "\n",
    "\n",
    "100 / 0"
   ]
  },
  {
   "cell_type": "markdown",
   "metadata": {},
   "source": [
    "Разберём это сообщение подробнее: \n",
    "\n",
    "- Интерпретатор нам сообщает о том, что он поймал исключение и напечатал информацию (Traceback (most recent call last)).\n",
    "\n",
    "- Далее имя файла (File \"\"). Имя пустое, потому что мы находимся в интерактивном режиме, строка в файле (line 1);\n",
    "\n",
    "- Выражение, в котором произошла ошибка (100 / 0).\n",
    "\n",
    "- Название исключения (ZeroDivisionError) и краткое описание исключения (division by zero)."
   ]
  },
  {
   "cell_type": "markdown",
   "metadata": {},
   "source": [
    "Наиболее частые исключения:\n",
    "- ImportError – импортирование не удалось\n",
    "- IndexError – индекс не входит в диапазон элементов списка\n",
    "- NameError – попытка использовать несуществующую переменную\n",
    "- SyntaxError – ошибка разбора кода\n",
    "- TypeError – в функционал передано значение несовместимого кода\n",
    "- ValueError – в функцию передано значение совместимого типа, но с некорректным значением\n",
    "\n",
    "\n",
    "В Python есть целая иерархия исключений \n",
    "\n",
    "https://tatyderb.gitbooks.io/python-express-course/content/chapter_exception/3_tree.html"
   ]
  },
  {
   "cell_type": "code",
   "execution_count": 184,
   "metadata": {},
   "outputs": [
    {
     "name": "stdout",
     "output_type": "stream",
     "text": [
      "work\n",
      "0\n"
     ]
    }
   ],
   "source": [
    "# Для обработки исключений используют конструкцию try-except\n",
    "\n",
    "try:\n",
    "    print('work')\n",
    "    num = 100 / 0\n",
    "    print('work_2')\n",
    "except ZeroDivisionError:\n",
    "    num = 0\n",
    "\n",
    "print(num)"
   ]
  },
  {
   "cell_type": "markdown",
   "metadata": {},
   "source": [
    "Также except может содержать несколько исключений"
   ]
  },
  {
   "cell_type": "code",
   "execution_count": 175,
   "metadata": {},
   "outputs": [
    {
     "name": "stdout",
     "output_type": "stream",
     "text": [
      "Error occurred\n"
     ]
    }
   ],
   "source": [
    "try:\n",
    "    num = 100\n",
    "    print(num + 'hello')\n",
    "    print(num / 2)\n",
    "except ZeroDivisionError:\n",
    "    print('Divided by zero')\n",
    "except (ValueError, TypeError):\n",
    "    print('Error occurred')"
   ]
  },
  {
   "cell_type": "markdown",
   "metadata": {},
   "source": [
    "**Если использовать except без исключений, то он будет перехватывать все ошибки, данное выражение следует использовать с осторожностью, так как может перехватывать скрытые ошибки.**\n",
    "\n",
    "КАК ДЕЛАТЬ НЕ НАДО"
   ]
  },
  {
   "cell_type": "code",
   "execution_count": 176,
   "metadata": {},
   "outputs": [
    {
     "name": "stdout",
     "output_type": "stream",
     "text": [
      "An error occurred\n"
     ]
    }
   ],
   "source": [
    "try:\n",
    "    num = 'Hello'\n",
    "    print(num / 0)\n",
    "except:\n",
    "    print('An error occurred')"
   ]
  },
  {
   "cell_type": "markdown",
   "metadata": {},
   "source": [
    "КАК ЖЕЛАТЕЛЬНО"
   ]
  },
  {
   "cell_type": "code",
   "execution_count": 181,
   "metadata": {},
   "outputs": [
    {
     "name": "stdout",
     "output_type": "stream",
     "text": [
      "An error occurred. message unsupported operand type(s) for /: 'str' and 'int'\n"
     ]
    }
   ],
   "source": [
    "try:\n",
    "    num = 'Hello'\n",
    "    print(num / 0)\n",
    "except Exception as ex:\n",
    "    # print('Error')\n",
    "    print(f'An error occurred. message {ex}')"
   ]
  },
  {
   "cell_type": "markdown",
   "metadata": {},
   "source": [
    "И ИДЕАЛЬНО"
   ]
  },
  {
   "cell_type": "code",
   "execution_count": 182,
   "metadata": {},
   "outputs": [
    {
     "name": "stdout",
     "output_type": "stream",
     "text": [
      "An error occurred. message unsupported operand type(s) for /: 'str' and 'int'\n"
     ]
    }
   ],
   "source": [
    "try:\n",
    "    num = 'Hello'\n",
    "    print(num / 0)\n",
    "except TypeError as ex:\n",
    "    print(f'An error occurred. message {ex}')"
   ]
  },
  {
   "cell_type": "markdown",
   "metadata": {},
   "source": [
    "Если мы хотим выводить на экран сообщение об ошибке, то напишем через алиас сокращенное название и подадим в print"
   ]
  },
  {
   "cell_type": "code",
   "execution_count": 185,
   "metadata": {},
   "outputs": [
    {
     "name": "stdout",
     "output_type": "stream",
     "text": [
      "message: division by zero\n"
     ]
    }
   ],
   "source": [
    "try:\n",
    "    num = 100\n",
    "    print(num / 0)\n",
    "except ZeroDivisionError as ex:\n",
    "    print(f'message: {ex}')\n",
    "except (ValueError, TypeError) as ex:\n",
    "    print(f'message: {ex}')"
   ]
  },
  {
   "cell_type": "markdown",
   "metadata": {},
   "source": [
    "Аналогично можем поступить с общим исключением Exception"
   ]
  },
  {
   "cell_type": "code",
   "execution_count": 186,
   "metadata": {},
   "outputs": [
    {
     "name": "stdout",
     "output_type": "stream",
     "text": [
      "message: division by zero\n"
     ]
    }
   ],
   "source": [
    "try:\n",
    "    num = 100\n",
    "    print(num / 0)\n",
    "except Exception as ex:\n",
    "    print(f'message: {ex}')"
   ]
  },
  {
   "cell_type": "markdown",
   "metadata": {},
   "source": [
    "Если вам необходимо, чтобы вне зависимости от того, возникли ошибки в коде или нет, некоторый фрагмент кода выполнялся, то используйте конструкцию **finally**\n",
    "\n",
    "Она располагается в нижней части конструкции try/except. finally выполняется всегда после блока try, и, если возможно, после блока except."
   ]
  },
  {
   "cell_type": "code",
   "execution_count": 191,
   "metadata": {},
   "outputs": [
    {
     "name": "stdout",
     "output_type": "stream",
     "text": [
      "first\n",
      "message: division by zero\n",
      "Hello world!\n"
     ]
    }
   ],
   "source": [
    "try:\n",
    "    print('first')\n",
    "    print(100 / 0)\n",
    "    print('second')\n",
    "except ZeroDivisionError as ex:\n",
    "    print(f\"message: {ex}\")\n",
    "finally:\n",
    "    print('Hello world!')"
   ]
  },
  {
   "cell_type": "markdown",
   "metadata": {},
   "source": [
    "Если какая-либо конструкция не смогла перехватиться, то finally будет выполняться."
   ]
  },
  {
   "cell_type": "code",
   "execution_count": 192,
   "metadata": {
    "scrolled": true
   },
   "outputs": [
    {
     "name": "stdout",
     "output_type": "stream",
     "text": [
      "It's finally\n"
     ]
    },
    {
     "ename": "TypeError",
     "evalue": "unsupported operand type(s) for +: 'int' and 'str'",
     "output_type": "error",
     "traceback": [
      "\u001b[0;31m---------------------------------------------------------------------------\u001b[0m",
      "\u001b[0;31mTypeError\u001b[0m                                 Traceback (most recent call last)",
      "\u001b[0;32m<ipython-input-192-eafd7a7f2823>\u001b[0m in \u001b[0;36m<module>\u001b[0;34m\u001b[0m\n\u001b[1;32m      1\u001b[0m \u001b[0;32mtry\u001b[0m\u001b[0;34m:\u001b[0m\u001b[0;34m\u001b[0m\u001b[0;34m\u001b[0m\u001b[0m\n\u001b[0;32m----> 2\u001b[0;31m     \u001b[0mvalue\u001b[0m \u001b[0;34m=\u001b[0m \u001b[0;36m10\u001b[0m \u001b[0;34m+\u001b[0m \u001b[0;34m'str'\u001b[0m\u001b[0;34m\u001b[0m\u001b[0;34m\u001b[0m\u001b[0m\n\u001b[0m\u001b[1;32m      3\u001b[0m     \u001b[0mprint\u001b[0m\u001b[0;34m(\u001b[0m\u001b[0mval\u001b[0m\u001b[0;34m)\u001b[0m\u001b[0;34m\u001b[0m\u001b[0;34m\u001b[0m\u001b[0m\n\u001b[1;32m      4\u001b[0m \u001b[0;32mexcept\u001b[0m \u001b[0mZeroDivisionError\u001b[0m\u001b[0;34m:\u001b[0m\u001b[0;34m\u001b[0m\u001b[0;34m\u001b[0m\u001b[0m\n\u001b[1;32m      5\u001b[0m     \u001b[0mprint\u001b[0m\u001b[0;34m(\u001b[0m\u001b[0;34m'Divided by zero'\u001b[0m\u001b[0;34m)\u001b[0m\u001b[0;34m\u001b[0m\u001b[0;34m\u001b[0m\u001b[0m\n",
      "\u001b[0;31mTypeError\u001b[0m: unsupported operand type(s) for +: 'int' and 'str'"
     ]
    }
   ],
   "source": [
    "try:\n",
    "    value = 10 + 'str'\n",
    "    print(val)\n",
    "except ZeroDivisionError:\n",
    "    print('Divided by zero')\n",
    "finally:\n",
    "    print(\"It's finally\")"
   ]
  },
  {
   "cell_type": "markdown",
   "metadata": {},
   "source": [
    "Чтобы использовать исключения в самой функции, необходимо подставить данный каркас в функцию"
   ]
  },
  {
   "cell_type": "code",
   "execution_count": 199,
   "metadata": {},
   "outputs": [
    {
     "name": "stdout",
     "output_type": "stream",
     "text": [
      "message: division by zero\n"
     ]
    }
   ],
   "source": [
    "def my_function(value: int) -> None:\n",
    "    try:\n",
    "        value = 100 / value\n",
    "        print(value)\n",
    "    # указываем соответсвующее исключение!!!\n",
    "    except (ZeroDivisionError, TypeError) as ex:\n",
    "        print(f'message: {ex}')\n",
    "\n",
    "\n",
    "# Вызов функции\n",
    "my_function(value=0)"
   ]
  },
  {
   "cell_type": "code",
   "execution_count": 195,
   "metadata": {},
   "outputs": [
    {
     "name": "stdout",
     "output_type": "stream",
     "text": [
      "10.0\n"
     ]
    }
   ],
   "source": [
    "my_function(value=10)"
   ]
  },
  {
   "cell_type": "code",
   "execution_count": 200,
   "metadata": {},
   "outputs": [
    {
     "name": "stdout",
     "output_type": "stream",
     "text": [
      "message: unsupported operand type(s) for /: 'int' and 'str'\n"
     ]
    }
   ],
   "source": [
    "my_function(value=\"str\")"
   ]
  },
  {
   "cell_type": "code",
   "execution_count": 202,
   "metadata": {},
   "outputs": [
    {
     "ename": "ZeroDivisionError",
     "evalue": "division by zero",
     "output_type": "error",
     "traceback": [
      "\u001b[0;31m---------------------------------------------------------------------------\u001b[0m",
      "\u001b[0;31mZeroDivisionError\u001b[0m                         Traceback (most recent call last)",
      "\u001b[0;32m<ipython-input-202-5de0725071d5>\u001b[0m in \u001b[0;36m<module>\u001b[0;34m\u001b[0m\n\u001b[1;32m     11\u001b[0m \u001b[0;34m\u001b[0m\u001b[0m\n\u001b[1;32m     12\u001b[0m \u001b[0;31m# Вызов функции\u001b[0m\u001b[0;34m\u001b[0m\u001b[0;34m\u001b[0m\u001b[0;34m\u001b[0m\u001b[0m\n\u001b[0;32m---> 13\u001b[0;31m \u001b[0mmy_function\u001b[0m\u001b[0;34m(\u001b[0m\u001b[0mvalue\u001b[0m\u001b[0;34m=\u001b[0m\u001b[0;36m0\u001b[0m\u001b[0;34m)\u001b[0m\u001b[0;34m\u001b[0m\u001b[0;34m\u001b[0m\u001b[0m\n\u001b[0m",
      "\u001b[0;32m<ipython-input-202-5de0725071d5>\u001b[0m in \u001b[0;36mmy_function\u001b[0;34m(value)\u001b[0m\n\u001b[1;32m      1\u001b[0m \u001b[0;32mdef\u001b[0m \u001b[0mmy_function\u001b[0m\u001b[0;34m(\u001b[0m\u001b[0mvalue\u001b[0m\u001b[0;34m:\u001b[0m \u001b[0mint\u001b[0m\u001b[0;34m)\u001b[0m \u001b[0;34m->\u001b[0m \u001b[0;32mNone\u001b[0m\u001b[0;34m:\u001b[0m\u001b[0;34m\u001b[0m\u001b[0;34m\u001b[0m\u001b[0m\n\u001b[0;32m----> 2\u001b[0;31m     \u001b[0;32mif\u001b[0m \u001b[0;36m100\u001b[0m \u001b[0;34m/\u001b[0m \u001b[0mvalue\u001b[0m\u001b[0;34m:\u001b[0m\u001b[0;34m\u001b[0m\u001b[0;34m\u001b[0m\u001b[0m\n\u001b[0m\u001b[1;32m      3\u001b[0m         \"\"\"\n\u001b[1;32m      4\u001b[0m         \u001b[0merror\u001b[0m\u001b[0;34m\u001b[0m\u001b[0;34m\u001b[0m\u001b[0m\n\u001b[1;32m      5\u001b[0m         \"\"\"\n",
      "\u001b[0;31mZeroDivisionError\u001b[0m: division by zero"
     ]
    }
   ],
   "source": [
    "def my_function(value: int) -> None:\n",
    "    if 100 / value:\n",
    "        \"\"\"\n",
    "        error\n",
    "        \"\"\"\n",
    "        print('error')\n",
    "    else:\n",
    "        value = 100 / value\n",
    "        print(value)\n",
    "\n",
    "\n",
    "# Вызов функции\n",
    "my_function(value=0)"
   ]
  },
  {
   "cell_type": "markdown",
   "metadata": {},
   "source": [
    "# Дополнительно\n",
    "\n",
    "Можно почитать про итераторы и генераторы более подброно\n",
    "\n",
    "https://pyneng.readthedocs.io/ru/latest/book/13_iterator_generator/index.html\n",
    "\n",
    "\n",
    "Если интересно, то еще про декораторы\n",
    "https://tproger.ru/translations/demystifying-decorators-in-python/"
   ]
  }
 ],
 "metadata": {
  "hide_input": false,
  "kernelspec": {
   "display_name": "Python 3 (ipykernel)",
   "language": "python",
   "name": "python3"
  },
  "language_info": {
   "codemirror_mode": {
    "name": "ipython",
    "version": 3
   },
   "file_extension": ".py",
   "mimetype": "text/x-python",
   "name": "python",
   "nbconvert_exporter": "python",
   "pygments_lexer": "ipython3",
   "version": "3.8.8"
  },
  "toc": {
   "base_numbering": 1,
   "nav_menu": {},
   "number_sections": true,
   "sideBar": true,
   "skip_h1_title": false,
   "title_cell": "Table of Contents",
   "title_sidebar": "Contents",
   "toc_cell": false,
   "toc_position": {
    "height": "calc(100% - 180px)",
    "left": "10px",
    "top": "150px",
    "width": "185.21875px"
   },
   "toc_section_display": true,
   "toc_window_display": true
  }
 },
 "nbformat": 4,
 "nbformat_minor": 4
}
