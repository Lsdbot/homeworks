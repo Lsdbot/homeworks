{
 "cells": [
  {
   "cell_type": "markdown",
   "metadata": {
    "hide_input": true
   },
   "source": [
    "# Python"
   ]
  },
  {
   "cell_type": "markdown",
   "metadata": {},
   "source": [
    "- Установить Anaconda и Python (идет вместе с дистрибутивом)\n",
    "- Выбрать общую папку для всех ваших ДЗ, открыть терминал (для Windows cmd)\n",
    "- Создать внутри папку HW1 и перейти в нее\n",
    "- Открыть терминал, указав путь до папки HW1 (при помощи cd - MacOS/Windows) и набрать команду 'jupyter notebook' (без кавычек в самом терминале). Команда запуститьcя локально Jupyter Notebook\n",
    "- Скопируйте файл 1. Python HW1.ipynb в папку HW1"
   ]
  },
  {
   "cell_type": "markdown",
   "metadata": {},
   "source": [
    "2) Напишите ниже заголовок первого уровня с названием аналогичным названию файла (использовать Markdown)"
   ]
  },
  {
   "cell_type": "code",
   "execution_count": 1,
   "metadata": {
    "code_folding": []
   },
   "outputs": [],
   "source": [
    "#1. Python HW1"
   ]
  },
  {
   "cell_type": "markdown",
   "metadata": {},
   "source": [
    "# Основы Python \n",
    "\n",
    "## Типы данных"
   ]
  },
  {
   "cell_type": "markdown",
   "metadata": {},
   "source": [
    "3) Придумайте любые две переменные: с типом float и отдельно с int (можно отрицательные), попробуйте проделать над ними все математические операции (сложение, вычитание и т.д.), выведите ответы при помощи функции print() "
   ]
  },
  {
   "cell_type": "code",
   "execution_count": 2,
   "metadata": {},
   "outputs": [],
   "source": [
    "x = 2\n",
    "y = 1.2"
   ]
  },
  {
   "cell_type": "code",
   "execution_count": 3,
   "metadata": {},
   "outputs": [
    {
     "name": "stdout",
     "output_type": "stream",
     "text": [
      "2.4\n",
      "3.2\n",
      "0.8\n",
      "1.6666666666666667\n",
      "1.0\n",
      "0.8\n"
     ]
    }
   ],
   "source": [
    "print(x*y)\n",
    "print(x+y)\n",
    "print(x-y)\n",
    "print(x/y)\n",
    "print(x//y)\n",
    "print(x%y)"
   ]
  },
  {
   "cell_type": "markdown",
   "metadata": {},
   "source": [
    "4) Создайте переменную с типом string, присвойте ей любой текст в виде одного предложения"
   ]
  },
  {
   "cell_type": "code",
   "execution_count": 4,
   "metadata": {},
   "outputs": [],
   "source": [
    "s = \"\"\n",
    "s = \"Hello world!\""
   ]
  },
  {
   "cell_type": "markdown",
   "metadata": {},
   "source": [
    "## Структуры данных"
   ]
  },
  {
   "cell_type": "markdown",
   "metadata": {},
   "source": [
    "5) Создайте список с элементами от 0 до 9, выведите список, а также его тип в одном выводе"
   ]
  },
  {
   "cell_type": "code",
   "execution_count": 5,
   "metadata": {},
   "outputs": [
    {
     "name": "stdout",
     "output_type": "stream",
     "text": [
      "[0, 1, 2, 3, 4, 5, 6, 7, 8, 9] <class 'list'>\n"
     ]
    }
   ],
   "source": [
    "a = list(range(10))\n",
    "print(a, type(a))"
   ]
  },
  {
   "cell_type": "markdown",
   "metadata": {},
   "source": [
    "6) Выведите при помощи слайсов из созданного списка в задании 5:\n",
    "- Элементы с 1 по 4 (первый элемент начинается с 0 индекса)\n",
    "- Последний элемент\n",
    "- Два последних элемента\n",
    "- Первые пять элементов (первый элемент начинается с 0 индекса)\n",
    "- Переверните список"
   ]
  },
  {
   "cell_type": "code",
   "execution_count": 6,
   "metadata": {},
   "outputs": [
    {
     "name": "stdout",
     "output_type": "stream",
     "text": [
      "[1, 2, 3]\n",
      "9\n",
      "[9, 8]\n",
      "[0, 1, 2, 3]\n",
      "[9, 8, 7, 6, 5, 4, 3, 2, 1, 0]\n"
     ]
    }
   ],
   "source": [
    "print(a[1:4])\n",
    "print(a[-1])\n",
    "print(a[-1:-3:-1])\n",
    "print(a[0:4])\n",
    "print(a[::-1])"
   ]
  },
  {
   "cell_type": "markdown",
   "metadata": {},
   "source": [
    "7) Создайте список с 3 любыми элементами. Добавьте в конец списка строку ‘это строка’ и выведите результат."
   ]
  },
  {
   "cell_type": "code",
   "execution_count": 7,
   "metadata": {},
   "outputs": [
    {
     "name": "stdout",
     "output_type": "stream",
     "text": [
      "[0, 1.0, 2, 'это строка']\n"
     ]
    }
   ],
   "source": [
    "a = [0,1.0,2]\n",
    "a.append(\"это строка\")\n",
    "print(a)"
   ]
  },
  {
   "cell_type": "markdown",
   "metadata": {},
   "source": [
    "8) Создайте словарь с различными типами ключей и их значений (использовать обязательно str, float, \n",
    "int, bool, list, tuple). Выберите из словаря любые два ключа и выведите их значение, а также тип."
   ]
  },
  {
   "cell_type": "code",
   "execution_count": 8,
   "metadata": {},
   "outputs": [
    {
     "name": "stdout",
     "output_type": "stream",
     "text": [
      "True []\n"
     ]
    }
   ],
   "source": [
    "d = {\"first\":True, 2:list(), 1.0:tuple()}\n",
    "print(d[\"first\"], d[2])"
   ]
  },
  {
   "cell_type": "markdown",
   "metadata": {},
   "source": [
    "9) Добавьте значение в словарь типа int и назовите ключ 'key3'. Выведите словарь"
   ]
  },
  {
   "cell_type": "code",
   "execution_count": 9,
   "metadata": {},
   "outputs": [
    {
     "name": "stdout",
     "output_type": "stream",
     "text": [
      "{'first': True, 2: [], 1.0: (), 'key3': 3}\n"
     ]
    }
   ],
   "source": [
    "d[\"key3\"] = 3\n",
    "print(d)"
   ]
  },
  {
   "cell_type": "markdown",
   "metadata": {},
   "source": [
    "10) Удалите из словаря 'key3'. Выведите словарь"
   ]
  },
  {
   "cell_type": "code",
   "execution_count": 10,
   "metadata": {},
   "outputs": [
    {
     "name": "stdout",
     "output_type": "stream",
     "text": [
      "{'first': True, 2: [], 1.0: ()}\n"
     ]
    }
   ],
   "source": [
    "d.pop(\"key3\")\n",
    "print(d)"
   ]
  },
  {
   "cell_type": "markdown",
   "metadata": {},
   "source": [
    "11) Создайте кортеж, который содержит значения: 1, 2, [‘str1’, ‘str2’,3]. Замените 2 элемент кортежа \n",
    "(отсчет с 0) на значение = 3, что произойдет с программой?"
   ]
  },
  {
   "cell_type": "code",
   "execution_count": 11,
   "metadata": {},
   "outputs": [
    {
     "ename": "TypeError",
     "evalue": "'tuple' object does not support item assignment",
     "output_type": "error",
     "traceback": [
      "\u001b[0;31m---------------------------------------------------------------------------\u001b[0m",
      "\u001b[0;31mTypeError\u001b[0m                                 Traceback (most recent call last)",
      "Input \u001b[0;32mIn [11]\u001b[0m, in \u001b[0;36m<cell line: 2>\u001b[0;34m()\u001b[0m\n\u001b[1;32m      1\u001b[0m a \u001b[38;5;241m=\u001b[39m (\u001b[38;5;241m1\u001b[39m,\u001b[38;5;241m2\u001b[39m,[\u001b[38;5;124m\"\u001b[39m\u001b[38;5;124mstr1\u001b[39m\u001b[38;5;124m\"\u001b[39m, \u001b[38;5;124m\"\u001b[39m\u001b[38;5;124mstr2\u001b[39m\u001b[38;5;124m\"\u001b[39m, \u001b[38;5;241m3\u001b[39m])\n\u001b[0;32m----> 2\u001b[0m a[\u001b[38;5;241m2\u001b[39m] \u001b[38;5;241m=\u001b[39m \u001b[38;5;241m3\u001b[39m\n",
      "\u001b[0;31mTypeError\u001b[0m: 'tuple' object does not support item assignment"
     ]
    }
   ],
   "source": [
    "a = (1,2,[\"str1\", \"str2\", 3])\n",
    "a[2] = 3"
   ]
  },
  {
   "cell_type": "markdown",
   "metadata": {},
   "source": [
    "12) Замените во 2 элементе кортежа элемент в списке с индексом 1 на значение = 3, \n",
    "что произойдет с программой? Выведите кортеж."
   ]
  },
  {
   "cell_type": "code",
   "execution_count": 12,
   "metadata": {},
   "outputs": [
    {
     "name": "stdout",
     "output_type": "stream",
     "text": [
      "(1, 2, ['str1', 3, 3])\n"
     ]
    }
   ],
   "source": [
    "a[2][1] = 3\n",
    "print(a)"
   ]
  },
  {
   "cell_type": "markdown",
   "metadata": {},
   "source": [
    "13) Создайте множество с элементами: 1,1,3,4,5,5,10, выведите значения множества, а также рядом кол-во элементов."
   ]
  },
  {
   "cell_type": "code",
   "execution_count": 13,
   "metadata": {},
   "outputs": [],
   "source": [
    "b = {1,1,3,4,5,5,10}"
   ]
  },
  {
   "cell_type": "code",
   "execution_count": 14,
   "metadata": {},
   "outputs": [
    {
     "name": "stdout",
     "output_type": "stream",
     "text": [
      "{1, 3, 4, 5, 10} 5\n"
     ]
    }
   ],
   "source": [
    "print(b,len(b))"
   ]
  },
  {
   "cell_type": "markdown",
   "metadata": {},
   "source": [
    "## Условия и циклы"
   ]
  },
  {
   "cell_type": "markdown",
   "metadata": {},
   "source": [
    "14) Напишите программу при помощи цикла for, которая выводит кол-во простых чисел, а также кол-во чисел, которые к простым не относятся, необходимо перебрать значения чисел от 1 до 100 (границы значений).\n",
    "\n",
    "**Сколько уникальных значений вы получили для каждого из случаев?**\n",
    "\n",
    "Для этого создайте переменные: \n",
    "- lower = 1\n",
    "- upper = 100\n",
    "\n",
    "где lower и upper соответственно нижняя и верхняя границы значений (верхнее значение 100 включительно), которые вы будете использовать в цикле при написании программы. При необходимости создайте также другие переменные.\n",
    "\n",
    "**Простое число** - это такое число, которое делится без остатка только на 1 и на само себя. Важно учесть, что вам нужно подсчитать именно кол-во **уникальных значений**.\n",
    "\n",
    "**Пример вывода для lower=1 и upper=10:**\n",
    "\n",
    "```console\n",
    "кол-во простых чисел = 4\n",
    "\n",
    "кол-во чисел, которые не относятся к простым = 5\n",
    "```"
   ]
  },
  {
   "cell_type": "code",
   "execution_count": 15,
   "metadata": {},
   "outputs": [
    {
     "name": "stdout",
     "output_type": "stream",
     "text": [
      "кол-во простых чисел =  25\n",
      "кол-во чисел, которые не относятся к простым = 74\n"
     ]
    }
   ],
   "source": [
    "lower = 1\n",
    "upper = 100\n",
    "simple_numbers = 0\n",
    "\n",
    "for i in range(lower + 1,upper):\n",
    "    for j in range(2, i):\n",
    "        if (i/j)%1 != 0: continue\n",
    "        simple_numbers -= 1\n",
    "        break\n",
    "    simple_numbers+=1\n",
    "\n",
    "print(\"кол-во простых чисел = \",simple_numbers)\n",
    "print(\"кол-во чисел, которые не относятся к простым =\", upper - lower - simple_numbers)"
   ]
  },
  {
   "cell_type": "markdown",
   "metadata": {},
   "source": [
    "15) Напишие программу, которая при помощи цикла while будет **переворачивать число**. \n",
    "\n",
    "Для этого создайте переменную value = 123456, значение которой по итогу необходимо перевернуть. При необходимости создайте также другие переменные. Использовать в данной программе **только арифметические операторы**, присваивать типы нельзя. \n",
    "\n",
    "**Пример вывода:**\n",
    "\n",
    "```console\n",
    "Исходное число = 123456\n",
    "\n",
    "Перевернутое значение исходного числа = 654321\n",
    "```"
   ]
  },
  {
   "cell_type": "code",
   "execution_count": 18,
   "metadata": {
    "code_folding": []
   },
   "outputs": [
    {
     "name": "stdout",
     "output_type": "stream",
     "text": [
      "Исходное число =  123456\n",
      "Перевернутое значение исходного числа =  654321\n"
     ]
    }
   ],
   "source": [
    "value = 123456\n",
    "first_elem = value\n",
    "result = 0\n",
    "\n",
    "while value!=0:\n",
    "    result = result * 10 + value % 10\n",
    "    value = value // 10\n",
    "\n",
    "print(\"Исходное число = \", first_elem)\n",
    "print(\"Перевернутое значение исходного числа = \", result)"
   ]
  }
 ],
 "metadata": {
  "hide_input": false,
  "kernelspec": {
   "display_name": "Python 3 (ipykernel)",
   "language": "python",
   "name": "python3"
  },
  "language_info": {
   "codemirror_mode": {
    "name": "ipython",
    "version": 3
   },
   "file_extension": ".py",
   "mimetype": "text/x-python",
   "name": "python",
   "nbconvert_exporter": "python",
   "pygments_lexer": "ipython3",
   "version": "3.8.8"
  },
  "toc": {
   "base_numbering": 1,
   "nav_menu": {},
   "number_sections": true,
   "sideBar": true,
   "skip_h1_title": false,
   "title_cell": "Table of Contents",
   "title_sidebar": "Contents",
   "toc_cell": false,
   "toc_position": {
    "height": "calc(100% - 180px)",
    "left": "10px",
    "top": "150px",
    "width": "227.46322631835938px"
   },
   "toc_section_display": true,
   "toc_window_display": true
  }
 },
 "nbformat": 4,
 "nbformat_minor": 4
}
