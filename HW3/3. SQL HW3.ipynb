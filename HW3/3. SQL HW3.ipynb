{
 "cells": [
  {
   "cell_type": "markdown",
   "metadata": {},
   "source": [
    "# Описание\n",
    "\n",
    "**employees** Таблица с информацией по сотрудникам\n",
    "\n",
    "- emp_no - id сотрудника\n",
    "- title - Название должности\n",
    "- birth_date - дата рождения\n",
    "- first_name - Имя\n",
    "- first_name - Фамилия\n",
    "- gender - пол\n",
    "- hire_date - первая дата устройства на работу\n",
    "\n",
    "**dept_emp** - Таблица с информацией в каком департаменте работает сотрудник\n",
    "\n",
    "- emp_no - id сотрудника\n",
    "- dept_name - Название департамента\n",
    "- from_date - дата начала работы в департаменте\n",
    "- to_date - дата ококнчания работы в департаменте (если 9999-01-01 - то работает по наст время)\n",
    "\n",
    "\n",
    "**dept_manager** - Таблица с информацией в каком департаменте работает менеджер\n",
    "\n",
    "- emp_no - id менеджера (сотрудника)\n",
    "- dept_name - Название департамента\n",
    "- from_date - дата начала работы в департаменте\n",
    "- to_date - дата ококнчания работы в департаменте (если 9999-01-01 - то работает по наст время)\n",
    "\n",
    "\n",
    "**salaries** - Таблица с информацией о зарплатах сотрудников\n",
    "\n",
    "- emp_no - id сотрудника\n",
    "- salaries - Зарплата"
   ]
  },
  {
   "cell_type": "code",
   "execution_count": 1,
   "metadata": {},
   "outputs": [],
   "source": [
    "%load_ext sql"
   ]
  },
  {
   "cell_type": "markdown",
   "metadata": {},
   "source": [
    "Укажите путь до места сохранения EmployeeSQL.db, данный путь был приведен в качестве примера"
   ]
  },
  {
   "cell_type": "code",
   "execution_count": 2,
   "metadata": {},
   "outputs": [],
   "source": [
    "%sql sqlite:///EmployeeSQL.db"
   ]
  },
  {
   "cell_type": "code",
   "execution_count": 3,
   "metadata": {},
   "outputs": [
    {
     "name": "stdout",
     "output_type": "stream",
     "text": [
      " * sqlite:///EmployeeSQL.db\n",
      "Done.\n"
     ]
    },
    {
     "data": {
      "text/html": [
       "<table>\n",
       "    <thead>\n",
       "        <tr>\n",
       "            <th>name</th>\n",
       "        </tr>\n",
       "    </thead>\n",
       "    <tbody>\n",
       "        <tr>\n",
       "            <td>employees</td>\n",
       "        </tr>\n",
       "        <tr>\n",
       "            <td>dept_manager</td>\n",
       "        </tr>\n",
       "        <tr>\n",
       "            <td>dept_emp</td>\n",
       "        </tr>\n",
       "        <tr>\n",
       "            <td>salaries</td>\n",
       "        </tr>\n",
       "        <tr>\n",
       "            <td>emp_test</td>\n",
       "        </tr>\n",
       "    </tbody>\n",
       "</table>"
      ],
      "text/plain": [
       "[('employees',),\n",
       " ('dept_manager',),\n",
       " ('dept_emp',),\n",
       " ('salaries',),\n",
       " ('emp_test',)]"
      ]
     },
     "execution_count": 3,
     "metadata": {},
     "output_type": "execute_result"
    }
   ],
   "source": [
    "%%sql\n",
    "\n",
    "SELECT name FROM sqlite_master"
   ]
  },
  {
   "cell_type": "markdown",
   "metadata": {},
   "source": [
    "1) Выведите первые 10 строк из таблицы dept_emp"
   ]
  },
  {
   "cell_type": "code",
   "execution_count": 4,
   "metadata": {},
   "outputs": [
    {
     "name": "stdout",
     "output_type": "stream",
     "text": [
      " * sqlite:///EmployeeSQL.db\n",
      "Done.\n"
     ]
    },
    {
     "data": {
      "text/html": [
       "<table>\n",
       "    <tr>\n",
       "        <th>emp_no</th>\n",
       "        <th>dept_name</th>\n",
       "        <th>from_date</th>\n",
       "        <th>to_date</th>\n",
       "    </tr>\n",
       "    <tr>\n",
       "        <td>10001</td>\n",
       "        <td>Development</td>\n",
       "        <td>1986-06-26</td>\n",
       "        <td>9999-01-01</td>\n",
       "    </tr>\n",
       "    <tr>\n",
       "        <td>10002</td>\n",
       "        <td>Sales</td>\n",
       "        <td>1996-08-03</td>\n",
       "        <td>9999-01-01</td>\n",
       "    </tr>\n",
       "    <tr>\n",
       "        <td>10003</td>\n",
       "        <td>Production</td>\n",
       "        <td>1995-12-03</td>\n",
       "        <td>9999-01-01</td>\n",
       "    </tr>\n",
       "    <tr>\n",
       "        <td>10004</td>\n",
       "        <td>Production</td>\n",
       "        <td>1986-12-01</td>\n",
       "        <td>9999-01-01</td>\n",
       "    </tr>\n",
       "    <tr>\n",
       "        <td>10005</td>\n",
       "        <td>Human Resources</td>\n",
       "        <td>1989-09-12</td>\n",
       "        <td>9999-01-01</td>\n",
       "    </tr>\n",
       "    <tr>\n",
       "        <td>10006</td>\n",
       "        <td>Development</td>\n",
       "        <td>1990-08-05</td>\n",
       "        <td>9999-01-01</td>\n",
       "    </tr>\n",
       "    <tr>\n",
       "        <td>10007</td>\n",
       "        <td>Research</td>\n",
       "        <td>1989-02-10</td>\n",
       "        <td>9999-01-01</td>\n",
       "    </tr>\n",
       "    <tr>\n",
       "        <td>10008</td>\n",
       "        <td>Development</td>\n",
       "        <td>1998-03-11</td>\n",
       "        <td>2000-07-31</td>\n",
       "    </tr>\n",
       "    <tr>\n",
       "        <td>10009</td>\n",
       "        <td>Quality Management</td>\n",
       "        <td>1985-02-18</td>\n",
       "        <td>9999-01-01</td>\n",
       "    </tr>\n",
       "    <tr>\n",
       "        <td>10010</td>\n",
       "        <td>Production</td>\n",
       "        <td>1996-11-24</td>\n",
       "        <td>2000-06-26</td>\n",
       "    </tr>\n",
       "</table>"
      ],
      "text/plain": [
       "[(10001, 'Development', '1986-06-26', '9999-01-01'),\n",
       " (10002, 'Sales', '1996-08-03', '9999-01-01'),\n",
       " (10003, 'Production', '1995-12-03', '9999-01-01'),\n",
       " (10004, 'Production', '1986-12-01', '9999-01-01'),\n",
       " (10005, 'Human Resources', '1989-09-12', '9999-01-01'),\n",
       " (10006, 'Development', '1990-08-05', '9999-01-01'),\n",
       " (10007, 'Research', '1989-02-10', '9999-01-01'),\n",
       " (10008, 'Development', '1998-03-11', '2000-07-31'),\n",
       " (10009, 'Quality Management', '1985-02-18', '9999-01-01'),\n",
       " (10010, 'Production', '1996-11-24', '2000-06-26')]"
      ]
     },
     "execution_count": 4,
     "metadata": {},
     "output_type": "execute_result"
    }
   ],
   "source": [
    "%%sql\n",
    "\n",
    "Select *\n",
    "from dept_emp\n",
    "limit 10"
   ]
  },
  {
   "cell_type": "markdown",
   "metadata": {},
   "source": [
    "2) Создать таблицу employees_2 на основании employees, где создадите дополнительные столбцы:\n",
    "- месяц рождения (по столбцу birth_date)\n",
    "- год рождения (по столбцу birth_date)\n",
    "\n",
    "Проверьте, создалась ли таблица. Выведите первые 5 строк"
   ]
  },
  {
   "cell_type": "code",
   "execution_count": 5,
   "metadata": {},
   "outputs": [
    {
     "name": "stdout",
     "output_type": "stream",
     "text": [
      " * sqlite:///EmployeeSQL.db\n",
      "Done.\n",
      "Done.\n"
     ]
    },
    {
     "data": {
      "text/plain": [
       "[]"
      ]
     },
     "execution_count": 5,
     "metadata": {},
     "output_type": "execute_result"
    }
   ],
   "source": [
    "%%sql\n",
    "\n",
    "drop table if exists employees_2;\n",
    "create table if not exists employees_2 as\n",
    "Select *, strftime('%m', birth_date) as m_birth, strftime('%Y', birth_date) as y_birth\n",
    "from employees"
   ]
  },
  {
   "cell_type": "code",
   "execution_count": 6,
   "metadata": {},
   "outputs": [
    {
     "name": "stdout",
     "output_type": "stream",
     "text": [
      " * sqlite:///EmployeeSQL.db\n",
      "Done.\n"
     ]
    },
    {
     "data": {
      "text/html": [
       "<table>\n",
       "    <tr>\n",
       "        <th>emp_no</th>\n",
       "        <th>title</th>\n",
       "        <th>birth_date</th>\n",
       "        <th>first_name</th>\n",
       "        <th>last_name</th>\n",
       "        <th>gender</th>\n",
       "        <th>hire_date</th>\n",
       "        <th>m_birth</th>\n",
       "        <th>y_birth</th>\n",
       "    </tr>\n",
       "    <tr>\n",
       "        <td>10001</td>\n",
       "        <td>Senior Engineer</td>\n",
       "        <td>1953-09-02</td>\n",
       "        <td>Georgi</td>\n",
       "        <td>Facello</td>\n",
       "        <td>M</td>\n",
       "        <td>1986-06-26</td>\n",
       "        <td>09</td>\n",
       "        <td>1953</td>\n",
       "    </tr>\n",
       "    <tr>\n",
       "        <td>10002</td>\n",
       "        <td>Staff</td>\n",
       "        <td>1964-06-02</td>\n",
       "        <td>Bezalel</td>\n",
       "        <td>Simmel</td>\n",
       "        <td>F</td>\n",
       "        <td>1985-11-21</td>\n",
       "        <td>06</td>\n",
       "        <td>1964</td>\n",
       "    </tr>\n",
       "    <tr>\n",
       "        <td>10003</td>\n",
       "        <td>Senior Engineer</td>\n",
       "        <td>1959-12-03</td>\n",
       "        <td>Parto</td>\n",
       "        <td>Bamford</td>\n",
       "        <td>M</td>\n",
       "        <td>1986-08-28</td>\n",
       "        <td>12</td>\n",
       "        <td>1959</td>\n",
       "    </tr>\n",
       "    <tr>\n",
       "        <td>10004</td>\n",
       "        <td>Senior Engineer</td>\n",
       "        <td>1954-05-01</td>\n",
       "        <td>Chirstian</td>\n",
       "        <td>Koblick</td>\n",
       "        <td>M</td>\n",
       "        <td>1986-12-01</td>\n",
       "        <td>05</td>\n",
       "        <td>1954</td>\n",
       "    </tr>\n",
       "    <tr>\n",
       "        <td>10005</td>\n",
       "        <td>Staff</td>\n",
       "        <td>1955-01-21</td>\n",
       "        <td>Kyoichi</td>\n",
       "        <td>Maliniak</td>\n",
       "        <td>M</td>\n",
       "        <td>1989-09-12</td>\n",
       "        <td>01</td>\n",
       "        <td>1955</td>\n",
       "    </tr>\n",
       "</table>"
      ],
      "text/plain": [
       "[(10001, 'Senior Engineer', '1953-09-02', 'Georgi', 'Facello', 'M', '1986-06-26', '09', '1953'),\n",
       " (10002, 'Staff', '1964-06-02', 'Bezalel', 'Simmel', 'F', '1985-11-21', '06', '1964'),\n",
       " (10003, 'Senior Engineer', '1959-12-03', 'Parto', 'Bamford', 'M', '1986-08-28', '12', '1959'),\n",
       " (10004, 'Senior Engineer', '1954-05-01', 'Chirstian', 'Koblick', 'M', '1986-12-01', '05', '1954'),\n",
       " (10005, 'Staff', '1955-01-21', 'Kyoichi', 'Maliniak', 'M', '1989-09-12', '01', '1955')]"
      ]
     },
     "execution_count": 6,
     "metadata": {},
     "output_type": "execute_result"
    }
   ],
   "source": [
    "%%sql\n",
    "\n",
    "Select *\n",
    "from employees_2\n",
    "limit 5"
   ]
  },
  {
   "cell_type": "markdown",
   "metadata": {},
   "source": [
    "3) Удалите таблицу employees_2"
   ]
  },
  {
   "cell_type": "code",
   "execution_count": 7,
   "metadata": {},
   "outputs": [
    {
     "name": "stdout",
     "output_type": "stream",
     "text": [
      " * sqlite:///EmployeeSQL.db\n",
      "Done.\n"
     ]
    },
    {
     "data": {
      "text/plain": [
       "[]"
      ]
     },
     "execution_count": 7,
     "metadata": {},
     "output_type": "execute_result"
    }
   ],
   "source": [
    "%%sql\n",
    "\n",
    "drop table if exists employees_2;"
   ]
  },
  {
   "cell_type": "markdown",
   "metadata": {},
   "source": [
    "4) Найдите всех сотрудников чье имя Georgi. Выведите первые 5 строк"
   ]
  },
  {
   "cell_type": "code",
   "execution_count": 8,
   "metadata": {},
   "outputs": [
    {
     "name": "stdout",
     "output_type": "stream",
     "text": [
      " * sqlite:///EmployeeSQL.db\n",
      "Done.\n"
     ]
    },
    {
     "data": {
      "text/html": [
       "<table>\n",
       "    <tr>\n",
       "        <th>emp_no</th>\n",
       "        <th>title</th>\n",
       "        <th>birth_date</th>\n",
       "        <th>first_name</th>\n",
       "        <th>last_name</th>\n",
       "        <th>gender</th>\n",
       "        <th>hire_date</th>\n",
       "    </tr>\n",
       "    <tr>\n",
       "        <td>10001</td>\n",
       "        <td>Senior Engineer</td>\n",
       "        <td>1953-09-02</td>\n",
       "        <td>Georgi</td>\n",
       "        <td>Facello</td>\n",
       "        <td>M</td>\n",
       "        <td>1986-06-26</td>\n",
       "    </tr>\n",
       "    <tr>\n",
       "        <td>10909</td>\n",
       "        <td>Senior Engineer</td>\n",
       "        <td>1954-11-11</td>\n",
       "        <td>Georgi</td>\n",
       "        <td>Atchley</td>\n",
       "        <td>M</td>\n",
       "        <td>1985-04-21</td>\n",
       "    </tr>\n",
       "    <tr>\n",
       "        <td>11029</td>\n",
       "        <td>Senior Staff</td>\n",
       "        <td>1962-07-12</td>\n",
       "        <td>Georgi</td>\n",
       "        <td>Itzfeldt</td>\n",
       "        <td>M</td>\n",
       "        <td>1992-12-27</td>\n",
       "    </tr>\n",
       "    <tr>\n",
       "        <td>11430</td>\n",
       "        <td>Staff</td>\n",
       "        <td>1957-01-23</td>\n",
       "        <td>Georgi</td>\n",
       "        <td>Klassen</td>\n",
       "        <td>M</td>\n",
       "        <td>1996-02-27</td>\n",
       "    </tr>\n",
       "    <tr>\n",
       "        <td>12157</td>\n",
       "        <td>Staff</td>\n",
       "        <td>1960-03-30</td>\n",
       "        <td>Georgi</td>\n",
       "        <td>Barinka</td>\n",
       "        <td>M</td>\n",
       "        <td>1985-06-04</td>\n",
       "    </tr>\n",
       "</table>"
      ],
      "text/plain": [
       "[(10001, 'Senior Engineer', '1953-09-02', 'Georgi', 'Facello', 'M', '1986-06-26'),\n",
       " (10909, 'Senior Engineer', '1954-11-11', 'Georgi', 'Atchley', 'M', '1985-04-21'),\n",
       " (11029, 'Senior Staff', '1962-07-12', 'Georgi', 'Itzfeldt', 'M', '1992-12-27'),\n",
       " (11430, 'Staff', '1957-01-23', 'Georgi', 'Klassen', 'M', '1996-02-27'),\n",
       " (12157, 'Staff', '1960-03-30', 'Georgi', 'Barinka', 'M', '1985-06-04')]"
      ]
     },
     "execution_count": 8,
     "metadata": {},
     "output_type": "execute_result"
    }
   ],
   "source": [
    "%%sql\n",
    "\n",
    "Select *\n",
    "from employees\n",
    "where \"first_name\" = \"Georgi\"\n",
    "limit 5"
   ]
  },
  {
   "cell_type": "markdown",
   "metadata": {},
   "source": [
    "5) Найдите всех сотрудников чье имя Georgi, которые до сих пор работают в компании (использовать также таблицу dept_emp, поле to_date = 9999-01-01). Выведите первые 5 строк, содержащих имя, фамилию, должность, дату начала работы, а также дату окончания работы (из dept_emp)"
   ]
  },
  {
   "cell_type": "code",
   "execution_count": 9,
   "metadata": {},
   "outputs": [
    {
     "name": "stdout",
     "output_type": "stream",
     "text": [
      " * sqlite:///EmployeeSQL.db\n",
      "Done.\n"
     ]
    },
    {
     "data": {
      "text/html": [
       "<table>\n",
       "    <tr>\n",
       "        <th>first_name</th>\n",
       "        <th>last_name</th>\n",
       "        <th>title</th>\n",
       "        <th>hire_date</th>\n",
       "        <th>to_date</th>\n",
       "    </tr>\n",
       "    <tr>\n",
       "        <td>Georgi</td>\n",
       "        <td>Facello</td>\n",
       "        <td>Senior Engineer</td>\n",
       "        <td>1986-06-26</td>\n",
       "        <td>9999-01-01</td>\n",
       "    </tr>\n",
       "    <tr>\n",
       "        <td>Georgi</td>\n",
       "        <td>Atchley</td>\n",
       "        <td>Senior Engineer</td>\n",
       "        <td>1985-04-21</td>\n",
       "        <td>9999-01-01</td>\n",
       "    </tr>\n",
       "    <tr>\n",
       "        <td>Georgi</td>\n",
       "        <td>Itzfeldt</td>\n",
       "        <td>Senior Staff</td>\n",
       "        <td>1992-12-27</td>\n",
       "        <td>9999-01-01</td>\n",
       "    </tr>\n",
       "    <tr>\n",
       "        <td>Georgi</td>\n",
       "        <td>Klassen</td>\n",
       "        <td>Staff</td>\n",
       "        <td>1996-02-27</td>\n",
       "        <td>9999-01-01</td>\n",
       "    </tr>\n",
       "    <tr>\n",
       "        <td>Georgi</td>\n",
       "        <td>Barinka</td>\n",
       "        <td>Staff</td>\n",
       "        <td>1985-06-04</td>\n",
       "        <td>9999-01-01</td>\n",
       "    </tr>\n",
       "</table>"
      ],
      "text/plain": [
       "[('Georgi', 'Facello', 'Senior Engineer', '1986-06-26', '9999-01-01'),\n",
       " ('Georgi', 'Atchley', 'Senior Engineer', '1985-04-21', '9999-01-01'),\n",
       " ('Georgi', 'Itzfeldt', 'Senior Staff', '1992-12-27', '9999-01-01'),\n",
       " ('Georgi', 'Klassen', 'Staff', '1996-02-27', '9999-01-01'),\n",
       " ('Georgi', 'Barinka', 'Staff', '1985-06-04', '9999-01-01')]"
      ]
     },
     "execution_count": 9,
     "metadata": {},
     "output_type": "execute_result"
    }
   ],
   "source": [
    "%%sql\n",
    "\n",
    "Select e.first_name, e.last_name, e.title, e.hire_date, d.to_date\n",
    "from employees e\n",
    "join dept_emp d on e.emp_no = d.emp_no\n",
    "where e.first_name = \"Georgi\" and d.to_date = \"9999-01-01\"\n",
    "limit 5"
   ]
  },
  {
   "cell_type": "markdown",
   "metadata": {},
   "source": [
    "6) Вывести топ 2 заплаты в каждом департаменте. \n",
    "\n",
    "Подсказка:\n",
    "\n",
    "**Использовать оконные функции**, можно и виртуальные таблицы, аккуратно производите нумерацию, использовать сортировку по убыванию в самой оконной функции, а также JOIN. Если в департаменте несколько похожих зарплат, то учитывать только **уникальное значение**!\n",
    "\n",
    "Пример вывода:\n",
    "\n",
    "| dept_name        | salary|\n",
    "|--------------|-----------|\n",
    "|Customer Service | 1000|\n",
    "|Customer Service | 999|\n",
    "|Development      | 1000|\n",
    "|Development      | 999|"
   ]
  },
  {
   "cell_type": "code",
   "execution_count": 32,
   "metadata": {
    "code_folding": [],
    "scrolled": true
   },
   "outputs": [
    {
     "name": "stdout",
     "output_type": "stream",
     "text": [
      " * sqlite:///EmployeeSQL.db\n",
      "Done.\n"
     ]
    },
    {
     "data": {
      "text/html": [
       "<table>\n",
       "    <tr>\n",
       "        <th>dept_name</th>\n",
       "        <th>salary</th>\n",
       "    </tr>\n",
       "    <tr>\n",
       "        <td>Customer Service</td>\n",
       "        <td>122423</td>\n",
       "    </tr>\n",
       "    <tr>\n",
       "        <td>Customer Service</td>\n",
       "        <td>120032</td>\n",
       "    </tr>\n",
       "    <tr>\n",
       "        <td>Development</td>\n",
       "        <td>110449</td>\n",
       "    </tr>\n",
       "    <tr>\n",
       "        <td>Development</td>\n",
       "        <td>106109</td>\n",
       "    </tr>\n",
       "    <tr>\n",
       "        <td>Finance</td>\n",
       "        <td>114784</td>\n",
       "    </tr>\n",
       "    <tr>\n",
       "        <td>Finance</td>\n",
       "        <td>113236</td>\n",
       "    </tr>\n",
       "    <tr>\n",
       "        <td>Human Resources</td>\n",
       "        <td>110308</td>\n",
       "    </tr>\n",
       "    <tr>\n",
       "        <td>Human Resources</td>\n",
       "        <td>101593</td>\n",
       "    </tr>\n",
       "    <tr>\n",
       "        <td>Marketing</td>\n",
       "        <td>118250</td>\n",
       "    </tr>\n",
       "    <tr>\n",
       "        <td>Marketing</td>\n",
       "        <td>116412</td>\n",
       "    </tr>\n",
       "</table>"
      ],
      "text/plain": [
       "[('Customer Service', 122423),\n",
       " ('Customer Service', 120032),\n",
       " ('Development', 110449),\n",
       " ('Development', 106109),\n",
       " ('Finance', 114784),\n",
       " ('Finance', 113236),\n",
       " ('Human Resources', 110308),\n",
       " ('Human Resources', 101593),\n",
       " ('Marketing', 118250),\n",
       " ('Marketing', 116412)]"
      ]
     },
     "execution_count": 32,
     "metadata": {},
     "output_type": "execute_result"
    }
   ],
   "source": [
    "%%sql\n",
    "\n",
    "Select dept_name, salary\n",
    "from (\n",
    "    Select d.dept_name, salary,\n",
    "         dense_rank() over(partition by d.dept_name order by salary desc) as rank\n",
    "    from dept_emp d\n",
    "    join salaries s on d.emp_no = s.emp_no) t\n",
    "where rank < 3\n",
    "limit 10"
   ]
  },
  {
   "cell_type": "markdown",
   "metadata": {},
   "source": [
    "7) Найдите 2 по счету максимальную зарплату **среди менеджеров** **двумя способами обязательно!**:\n",
    "- с использованием подзапроса\n",
    "- с использованием limit\n",
    "\n",
    "Вывести id менеджера и значение зарплаты"
   ]
  },
  {
   "cell_type": "code",
   "execution_count": 41,
   "metadata": {},
   "outputs": [
    {
     "name": "stdout",
     "output_type": "stream",
     "text": [
      " * sqlite:///EmployeeSQL.db\n",
      "Done.\n"
     ]
    },
    {
     "data": {
      "text/html": [
       "<table>\n",
       "    <tr>\n",
       "        <th>emp_no</th>\n",
       "        <th>salary</th>\n",
       "    </tr>\n",
       "    <tr>\n",
       "        <td>111035</td>\n",
       "        <td>71612</td>\n",
       "    </tr>\n",
       "</table>"
      ],
      "text/plain": [
       "[(111035, 71612)]"
      ]
     },
     "execution_count": 41,
     "metadata": {},
     "output_type": "execute_result"
    }
   ],
   "source": [
    "%%sql\n",
    "\n",
    "Select emp_no, salary\n",
    "from (\n",
    "    Select m.emp_no, s.salary,\n",
    "        dense_rank() over(order by salary desc) as r\n",
    "    from dept_manager m\n",
    "    join salaries s on m.emp_no = s.emp_no) t\n",
    "where r = 2"
   ]
  },
  {
   "cell_type": "code",
   "execution_count": 47,
   "metadata": {},
   "outputs": [
    {
     "name": "stdout",
     "output_type": "stream",
     "text": [
      " * sqlite:///EmployeeSQL.db\n",
      "Done.\n"
     ]
    },
    {
     "data": {
      "text/html": [
       "<table>\n",
       "    <tr>\n",
       "        <th>emp_no</th>\n",
       "        <th>salary</th>\n",
       "    </tr>\n",
       "    <tr>\n",
       "        <td>111035</td>\n",
       "        <td>71612</td>\n",
       "    </tr>\n",
       "</table>"
      ],
      "text/plain": [
       "[(111035, 71612)]"
      ]
     },
     "execution_count": 47,
     "metadata": {},
     "output_type": "execute_result"
    }
   ],
   "source": [
    "%%sql\n",
    "\n",
    "Select m.emp_no, s.salary\n",
    "from dept_manager m\n",
    "join salaries s on m.emp_no = s.emp_no\n",
    "order by s.salary desc\n",
    "limit 1, 1"
   ]
  },
  {
   "cell_type": "markdown",
   "metadata": {},
   "source": [
    "8) Вывести среднюю зарплату и название тех депаратаментов (dept_emp), где **среднее значение зарплаты** больше 50000\n",
    "\n",
    "\n",
    "Пример вывода:\n",
    "\n",
    "|dept_name        | avg salary|\n",
    "|------|------|\n",
    "|Customer Service | 51000|\n",
    "|Development      | 50500|"
   ]
  },
  {
   "cell_type": "code",
   "execution_count": 49,
   "metadata": {},
   "outputs": [
    {
     "name": "stdout",
     "output_type": "stream",
     "text": [
      " * sqlite:///EmployeeSQL.db\n",
      "Done.\n"
     ]
    },
    {
     "data": {
      "text/html": [
       "<table>\n",
       "    <tr>\n",
       "        <th>dept_name</th>\n",
       "        <th>avg salary</th>\n",
       "    </tr>\n",
       "    <tr>\n",
       "        <td>Finance</td>\n",
       "        <td>59534.0</td>\n",
       "    </tr>\n",
       "    <tr>\n",
       "        <td>Marketing</td>\n",
       "        <td>61096.0</td>\n",
       "    </tr>\n",
       "    <tr>\n",
       "        <td>Sales</td>\n",
       "        <td>69832.0</td>\n",
       "    </tr>\n",
       "</table>"
      ],
      "text/plain": [
       "[('Finance', 59534.0), ('Marketing', 61096.0), ('Sales', 69832.0)]"
      ]
     },
     "execution_count": 49,
     "metadata": {},
     "output_type": "execute_result"
    }
   ],
   "source": [
    "%%sql\n",
    "\n",
    "Select d.dept_name, ROUND(AVG(s.salary)) as \"avg salary\"\n",
    "from dept_emp d\n",
    "join salaries s on d.emp_no = s.emp_no\n",
    "group by dept_name\n",
    "having AVG(s.salary) > 50000"
   ]
  },
  {
   "cell_type": "markdown",
   "metadata": {},
   "source": [
    "9) Выведите среднюю зарплату по всем сотрудникам и округлите при помощи round()"
   ]
  },
  {
   "cell_type": "code",
   "execution_count": 4,
   "metadata": {},
   "outputs": [
    {
     "name": "stdout",
     "output_type": "stream",
     "text": [
      " * sqlite:///EmployeeSQL.db\n",
      "Done.\n"
     ]
    },
    {
     "data": {
      "text/html": [
       "<table>\n",
       "    <thead>\n",
       "        <tr>\n",
       "            <th>avg_salary</th>\n",
       "        </tr>\n",
       "    </thead>\n",
       "    <tbody>\n",
       "        <tr>\n",
       "            <td>52971.0</td>\n",
       "        </tr>\n",
       "    </tbody>\n",
       "</table>"
      ],
      "text/plain": [
       "[(52971.0,)]"
      ]
     },
     "execution_count": 4,
     "metadata": {},
     "output_type": "execute_result"
    }
   ],
   "source": [
    "%%sql\n",
    "\n",
    "Select distinct round(AVG(salary) Over()) as avg_salary\n",
    "from salaries"
   ]
  },
  {
   "cell_type": "code",
   "execution_count": 6,
   "metadata": {},
   "outputs": [
    {
     "name": "stdout",
     "output_type": "stream",
     "text": [
      " * sqlite:///EmployeeSQL.db\n",
      "Done.\n"
     ]
    },
    {
     "data": {
      "text/html": [
       "<table>\n",
       "    <thead>\n",
       "        <tr>\n",
       "            <th>avg_salary</th>\n",
       "        </tr>\n",
       "    </thead>\n",
       "    <tbody>\n",
       "        <tr>\n",
       "            <td>52971.0</td>\n",
       "        </tr>\n",
       "    </tbody>\n",
       "</table>"
      ],
      "text/plain": [
       "[(52971.0,)]"
      ]
     },
     "execution_count": 6,
     "metadata": {},
     "output_type": "execute_result"
    }
   ],
   "source": [
    "%%sql\n",
    "\n",
    "SELECT round(AVG(salary), 0) as avg_salary\n",
    "from salaries"
   ]
  },
  {
   "cell_type": "markdown",
   "metadata": {},
   "source": [
    "10) Выведите первые 10 строк:\n",
    "- id сотрудника (относится ко всем сотрудникам)\n",
    "- Имя сотрудника\n",
    "- Фамилию сотрудника\n",
    "- Должность\n",
    "- Департамент\n",
    "- Зарплату (иметь в виду, что это число, а не строка)\n",
    "- Дату начала работы в департаменте\n",
    "- Дату окончания работы в департаменте\n",
    "- **Флаг** того, что человек работает в данном депаратаменте (**если стоит дата 9999-01-01, то человек продолжает работать и ставим 1, иначе 0 (то есть уже не работает)**)\n",
    "- Флаг того, что его зарплата выше средней, если **1 - выше средней или равно, иначе 0** (значение расчитано в задании 9, можно скопировать значение руками)\n",
    "\n",
    "Используйте CASE"
   ]
  },
  {
   "cell_type": "code",
   "execution_count": 9,
   "metadata": {},
   "outputs": [
    {
     "name": "stdout",
     "output_type": "stream",
     "text": [
      " * sqlite:///EmployeeSQL.db\n",
      "Done.\n"
     ]
    },
    {
     "data": {
      "text/html": [
       "<table>\n",
       "    <thead>\n",
       "        <tr>\n",
       "            <th>emp_no</th>\n",
       "            <th>dept_name</th>\n",
       "            <th>from_date</th>\n",
       "            <th>to_date</th>\n",
       "            <th>title</th>\n",
       "            <th>first_name</th>\n",
       "            <th>last_name</th>\n",
       "            <th>salary</th>\n",
       "            <th>work_now</th>\n",
       "            <th>high_avg_sal</th>\n",
       "        </tr>\n",
       "    </thead>\n",
       "    <tbody>\n",
       "        <tr>\n",
       "            <td>10001</td>\n",
       "            <td>Development</td>\n",
       "            <td>1986-06-26</td>\n",
       "            <td>9999-01-01</td>\n",
       "            <td>Senior Engineer</td>\n",
       "            <td>Georgi</td>\n",
       "            <td>Facello</td>\n",
       "            <td>60117</td>\n",
       "            <td>1</td>\n",
       "            <td>1</td>\n",
       "        </tr>\n",
       "        <tr>\n",
       "            <td>10002</td>\n",
       "            <td>Sales</td>\n",
       "            <td>1996-08-03</td>\n",
       "            <td>9999-01-01</td>\n",
       "            <td>Staff</td>\n",
       "            <td>Bezalel</td>\n",
       "            <td>Simmel</td>\n",
       "            <td>65828</td>\n",
       "            <td>1</td>\n",
       "            <td>1</td>\n",
       "        </tr>\n",
       "        <tr>\n",
       "            <td>10003</td>\n",
       "            <td>Production</td>\n",
       "            <td>1995-12-03</td>\n",
       "            <td>9999-01-01</td>\n",
       "            <td>Senior Engineer</td>\n",
       "            <td>Parto</td>\n",
       "            <td>Bamford</td>\n",
       "            <td>40006</td>\n",
       "            <td>1</td>\n",
       "            <td>0</td>\n",
       "        </tr>\n",
       "        <tr>\n",
       "            <td>10004</td>\n",
       "            <td>Production</td>\n",
       "            <td>1986-12-01</td>\n",
       "            <td>9999-01-01</td>\n",
       "            <td>Senior Engineer</td>\n",
       "            <td>Chirstian</td>\n",
       "            <td>Koblick</td>\n",
       "            <td>40054</td>\n",
       "            <td>1</td>\n",
       "            <td>0</td>\n",
       "        </tr>\n",
       "        <tr>\n",
       "            <td>10005</td>\n",
       "            <td>Human Resources</td>\n",
       "            <td>1989-09-12</td>\n",
       "            <td>9999-01-01</td>\n",
       "            <td>Staff</td>\n",
       "            <td>Kyoichi</td>\n",
       "            <td>Maliniak</td>\n",
       "            <td>78228</td>\n",
       "            <td>1</td>\n",
       "            <td>1</td>\n",
       "        </tr>\n",
       "        <tr>\n",
       "            <td>10006</td>\n",
       "            <td>Development</td>\n",
       "            <td>1990-08-05</td>\n",
       "            <td>9999-01-01</td>\n",
       "            <td>Senior Engineer</td>\n",
       "            <td>Anneke</td>\n",
       "            <td>Preusig</td>\n",
       "            <td>40000</td>\n",
       "            <td>1</td>\n",
       "            <td>0</td>\n",
       "        </tr>\n",
       "        <tr>\n",
       "            <td>10007</td>\n",
       "            <td>Research</td>\n",
       "            <td>1989-02-10</td>\n",
       "            <td>9999-01-01</td>\n",
       "            <td>Staff</td>\n",
       "            <td>Tzvetan</td>\n",
       "            <td>Zielinski</td>\n",
       "            <td>56724</td>\n",
       "            <td>1</td>\n",
       "            <td>1</td>\n",
       "        </tr>\n",
       "        <tr>\n",
       "            <td>10008</td>\n",
       "            <td>Development</td>\n",
       "            <td>1998-03-11</td>\n",
       "            <td>2000-07-31</td>\n",
       "            <td>Assistant Engineer</td>\n",
       "            <td>Saniya</td>\n",
       "            <td>Kalloufi</td>\n",
       "            <td>46671</td>\n",
       "            <td>0</td>\n",
       "            <td>0</td>\n",
       "        </tr>\n",
       "        <tr>\n",
       "            <td>10009</td>\n",
       "            <td>Quality Management</td>\n",
       "            <td>1985-02-18</td>\n",
       "            <td>9999-01-01</td>\n",
       "            <td>Senior Engineer</td>\n",
       "            <td>Sumant</td>\n",
       "            <td>Peac</td>\n",
       "            <td>60929</td>\n",
       "            <td>1</td>\n",
       "            <td>1</td>\n",
       "        </tr>\n",
       "        <tr>\n",
       "            <td>10010</td>\n",
       "            <td>Production</td>\n",
       "            <td>1996-11-24</td>\n",
       "            <td>2000-06-26</td>\n",
       "            <td>Engineer</td>\n",
       "            <td>Duangkaew</td>\n",
       "            <td>Piveteau</td>\n",
       "            <td>72488</td>\n",
       "            <td>0</td>\n",
       "            <td>1</td>\n",
       "        </tr>\n",
       "    </tbody>\n",
       "</table>"
      ],
      "text/plain": [
       "[(10001, 'Development', '1986-06-26', '9999-01-01', 'Senior Engineer', 'Georgi', 'Facello', 60117, 1, 1),\n",
       " (10002, 'Sales', '1996-08-03', '9999-01-01', 'Staff', 'Bezalel', 'Simmel', 65828, 1, 1),\n",
       " (10003, 'Production', '1995-12-03', '9999-01-01', 'Senior Engineer', 'Parto', 'Bamford', 40006, 1, 0),\n",
       " (10004, 'Production', '1986-12-01', '9999-01-01', 'Senior Engineer', 'Chirstian', 'Koblick', 40054, 1, 0),\n",
       " (10005, 'Human Resources', '1989-09-12', '9999-01-01', 'Staff', 'Kyoichi', 'Maliniak', 78228, 1, 1),\n",
       " (10006, 'Development', '1990-08-05', '9999-01-01', 'Senior Engineer', 'Anneke', 'Preusig', 40000, 1, 0),\n",
       " (10007, 'Research', '1989-02-10', '9999-01-01', 'Staff', 'Tzvetan', 'Zielinski', 56724, 1, 1),\n",
       " (10008, 'Development', '1998-03-11', '2000-07-31', 'Assistant Engineer', 'Saniya', 'Kalloufi', 46671, 0, 0),\n",
       " (10009, 'Quality Management', '1985-02-18', '9999-01-01', 'Senior Engineer', 'Sumant', 'Peac', 60929, 1, 1),\n",
       " (10010, 'Production', '1996-11-24', '2000-06-26', 'Engineer', 'Duangkaew', 'Piveteau', 72488, 0, 1)]"
      ]
     },
     "execution_count": 9,
     "metadata": {},
     "output_type": "execute_result"
    }
   ],
   "source": [
    "%%sql\n",
    "\n",
    "Select d.*, e.title, e.first_name, e.last_name, s.salary,\n",
    "    case \n",
    "        when (d.to_date = \"9999-01-01\") then 1 \n",
    "        else 0 \n",
    "        end as work_now,\n",
    "    case \n",
    "        when (s.salary > 52971) then 1 \n",
    "        else 0 \n",
    "        end as high_avg_sal\n",
    "from employees e\n",
    "join salaries s USING(emp_no)\n",
    "join dept_emp d on e.emp_no = d.emp_no\n",
    "limit 10\n",
    "\n"
   ]
  },
  {
   "cell_type": "markdown",
   "metadata": {},
   "source": [
    "11) Найдите **кол-во** уникальных сотрудников **в каждом департаменте** в разрезе **должности**\n",
    "\n",
    "Пример вывода:\n",
    "\n",
    "|dept_name\t| title\t| count_emp|\n",
    "|------|-----|----|\n",
    "|Development\t| Engineer |\t20|\n",
    "|Development\t| Staff    |\t10|"
   ]
  },
  {
   "cell_type": "code",
   "execution_count": 12,
   "metadata": {},
   "outputs": [
    {
     "name": "stdout",
     "output_type": "stream",
     "text": [
      " * sqlite:///EmployeeSQL.db\n",
      "Done.\n"
     ]
    },
    {
     "data": {
      "text/html": [
       "<table>\n",
       "    <thead>\n",
       "        <tr>\n",
       "            <th>dept_name</th>\n",
       "            <th>title</th>\n",
       "            <th>count_emp</th>\n",
       "        </tr>\n",
       "    </thead>\n",
       "    <tbody>\n",
       "        <tr>\n",
       "            <td>Customer Service</td>\n",
       "            <td>Assistant Engineer</td>\n",
       "            <td>108</td>\n",
       "        </tr>\n",
       "        <tr>\n",
       "            <td>Customer Service</td>\n",
       "            <td>Engineer</td>\n",
       "            <td>944</td>\n",
       "        </tr>\n",
       "        <tr>\n",
       "            <td>Customer Service</td>\n",
       "            <td>Manager</td>\n",
       "            <td>4</td>\n",
       "        </tr>\n",
       "        <tr>\n",
       "            <td>Customer Service</td>\n",
       "            <td>Senior Engineer</td>\n",
       "            <td>2027</td>\n",
       "        </tr>\n",
       "        <tr>\n",
       "            <td>Customer Service</td>\n",
       "            <td>Senior Staff</td>\n",
       "            <td>4041</td>\n",
       "        </tr>\n",
       "        <tr>\n",
       "            <td>Customer Service</td>\n",
       "            <td>Staff</td>\n",
       "            <td>16147</td>\n",
       "        </tr>\n",
       "        <tr>\n",
       "            <td>Customer Service</td>\n",
       "            <td>Technique Leader</td>\n",
       "            <td>309</td>\n",
       "        </tr>\n",
       "        <tr>\n",
       "            <td>Development</td>\n",
       "            <td>Assistant Engineer</td>\n",
       "            <td>2987</td>\n",
       "        </tr>\n",
       "        <tr>\n",
       "            <td>Development</td>\n",
       "            <td>Engineer</td>\n",
       "            <td>23938</td>\n",
       "        </tr>\n",
       "        <tr>\n",
       "            <td>Development</td>\n",
       "            <td>Manager</td>\n",
       "            <td>2</td>\n",
       "        </tr>\n",
       "        <tr>\n",
       "            <td>Development</td>\n",
       "            <td>Senior Engineer</td>\n",
       "            <td>49326</td>\n",
       "        </tr>\n",
       "        <tr>\n",
       "            <td>Development</td>\n",
       "            <td>Senior Staff</td>\n",
       "            <td>349</td>\n",
       "        </tr>\n",
       "        <tr>\n",
       "            <td>Development</td>\n",
       "            <td>Staff</td>\n",
       "            <td>1424</td>\n",
       "        </tr>\n",
       "        <tr>\n",
       "            <td>Development</td>\n",
       "            <td>Technique Leader</td>\n",
       "            <td>7681</td>\n",
       "        </tr>\n",
       "        <tr>\n",
       "            <td>Finance</td>\n",
       "            <td>Manager</td>\n",
       "            <td>2</td>\n",
       "        </tr>\n",
       "        <tr>\n",
       "            <td>Finance</td>\n",
       "            <td>Senior Staff</td>\n",
       "            <td>3415</td>\n",
       "        </tr>\n",
       "        <tr>\n",
       "            <td>Finance</td>\n",
       "            <td>Staff</td>\n",
       "            <td>13929</td>\n",
       "        </tr>\n",
       "        <tr>\n",
       "            <td>Human Resources</td>\n",
       "            <td>Manager</td>\n",
       "            <td>2</td>\n",
       "        </tr>\n",
       "        <tr>\n",
       "            <td>Human Resources</td>\n",
       "            <td>Senior Staff</td>\n",
       "            <td>3443</td>\n",
       "        </tr>\n",
       "        <tr>\n",
       "            <td>Human Resources</td>\n",
       "            <td>Staff</td>\n",
       "            <td>14341</td>\n",
       "        </tr>\n",
       "        <tr>\n",
       "            <td>Marketing</td>\n",
       "            <td>Manager</td>\n",
       "            <td>2</td>\n",
       "        </tr>\n",
       "        <tr>\n",
       "            <td>Marketing</td>\n",
       "            <td>Senior Staff</td>\n",
       "            <td>4013</td>\n",
       "        </tr>\n",
       "        <tr>\n",
       "            <td>Marketing</td>\n",
       "            <td>Staff</td>\n",
       "            <td>16196</td>\n",
       "        </tr>\n",
       "        <tr>\n",
       "            <td>Production</td>\n",
       "            <td>Assistant Engineer</td>\n",
       "            <td>2474</td>\n",
       "        </tr>\n",
       "        <tr>\n",
       "            <td>Production</td>\n",
       "            <td>Engineer</td>\n",
       "            <td>20416</td>\n",
       "        </tr>\n",
       "        <tr>\n",
       "            <td>Production</td>\n",
       "            <td>Manager</td>\n",
       "            <td>4</td>\n",
       "        </tr>\n",
       "        <tr>\n",
       "            <td>Production</td>\n",
       "            <td>Senior Engineer</td>\n",
       "            <td>42203</td>\n",
       "        </tr>\n",
       "        <tr>\n",
       "            <td>Production</td>\n",
       "            <td>Senior Staff</td>\n",
       "            <td>357</td>\n",
       "        </tr>\n",
       "        <tr>\n",
       "            <td>Production</td>\n",
       "            <td>Staff</td>\n",
       "            <td>1478</td>\n",
       "        </tr>\n",
       "        <tr>\n",
       "            <td>Production</td>\n",
       "            <td>Technique Leader</td>\n",
       "            <td>6553</td>\n",
       "        </tr>\n",
       "        <tr>\n",
       "            <td>Quality Management</td>\n",
       "            <td>Assistant Engineer</td>\n",
       "            <td>735</td>\n",
       "        </tr>\n",
       "        <tr>\n",
       "            <td>Quality Management</td>\n",
       "            <td>Engineer</td>\n",
       "            <td>5725</td>\n",
       "        </tr>\n",
       "        <tr>\n",
       "            <td>Quality Management</td>\n",
       "            <td>Manager</td>\n",
       "            <td>4</td>\n",
       "        </tr>\n",
       "        <tr>\n",
       "            <td>Quality Management</td>\n",
       "            <td>Senior Engineer</td>\n",
       "            <td>11863</td>\n",
       "        </tr>\n",
       "        <tr>\n",
       "            <td>Quality Management</td>\n",
       "            <td>Technique Leader</td>\n",
       "            <td>1790</td>\n",
       "        </tr>\n",
       "        <tr>\n",
       "            <td>Research</td>\n",
       "            <td>Assistant Engineer</td>\n",
       "            <td>127</td>\n",
       "        </tr>\n",
       "        <tr>\n",
       "            <td>Research</td>\n",
       "            <td>Engineer</td>\n",
       "            <td>1245</td>\n",
       "        </tr>\n",
       "        <tr>\n",
       "            <td>Research</td>\n",
       "            <td>Manager</td>\n",
       "            <td>2</td>\n",
       "        </tr>\n",
       "        <tr>\n",
       "            <td>Research</td>\n",
       "            <td>Senior Engineer</td>\n",
       "            <td>2570</td>\n",
       "        </tr>\n",
       "        <tr>\n",
       "            <td>Research</td>\n",
       "            <td>Senior Staff</td>\n",
       "            <td>3295</td>\n",
       "        </tr>\n",
       "        <tr>\n",
       "            <td>Research</td>\n",
       "            <td>Staff</td>\n",
       "            <td>13494</td>\n",
       "        </tr>\n",
       "        <tr>\n",
       "            <td>Research</td>\n",
       "            <td>Technique Leader</td>\n",
       "            <td>393</td>\n",
       "        </tr>\n",
       "        <tr>\n",
       "            <td>Sales</td>\n",
       "            <td>Manager</td>\n",
       "            <td>2</td>\n",
       "        </tr>\n",
       "        <tr>\n",
       "            <td>Sales</td>\n",
       "            <td>Senior Staff</td>\n",
       "            <td>10437</td>\n",
       "        </tr>\n",
       "        <tr>\n",
       "            <td>Sales</td>\n",
       "            <td>Staff</td>\n",
       "            <td>41806</td>\n",
       "        </tr>\n",
       "    </tbody>\n",
       "</table>"
      ],
      "text/plain": [
       "[('Customer Service', 'Assistant Engineer', 108),\n",
       " ('Customer Service', 'Engineer', 944),\n",
       " ('Customer Service', 'Manager', 4),\n",
       " ('Customer Service', 'Senior Engineer', 2027),\n",
       " ('Customer Service', 'Senior Staff', 4041),\n",
       " ('Customer Service', 'Staff', 16147),\n",
       " ('Customer Service', 'Technique Leader', 309),\n",
       " ('Development', 'Assistant Engineer', 2987),\n",
       " ('Development', 'Engineer', 23938),\n",
       " ('Development', 'Manager', 2),\n",
       " ('Development', 'Senior Engineer', 49326),\n",
       " ('Development', 'Senior Staff', 349),\n",
       " ('Development', 'Staff', 1424),\n",
       " ('Development', 'Technique Leader', 7681),\n",
       " ('Finance', 'Manager', 2),\n",
       " ('Finance', 'Senior Staff', 3415),\n",
       " ('Finance', 'Staff', 13929),\n",
       " ('Human Resources', 'Manager', 2),\n",
       " ('Human Resources', 'Senior Staff', 3443),\n",
       " ('Human Resources', 'Staff', 14341),\n",
       " ('Marketing', 'Manager', 2),\n",
       " ('Marketing', 'Senior Staff', 4013),\n",
       " ('Marketing', 'Staff', 16196),\n",
       " ('Production', 'Assistant Engineer', 2474),\n",
       " ('Production', 'Engineer', 20416),\n",
       " ('Production', 'Manager', 4),\n",
       " ('Production', 'Senior Engineer', 42203),\n",
       " ('Production', 'Senior Staff', 357),\n",
       " ('Production', 'Staff', 1478),\n",
       " ('Production', 'Technique Leader', 6553),\n",
       " ('Quality Management', 'Assistant Engineer', 735),\n",
       " ('Quality Management', 'Engineer', 5725),\n",
       " ('Quality Management', 'Manager', 4),\n",
       " ('Quality Management', 'Senior Engineer', 11863),\n",
       " ('Quality Management', 'Technique Leader', 1790),\n",
       " ('Research', 'Assistant Engineer', 127),\n",
       " ('Research', 'Engineer', 1245),\n",
       " ('Research', 'Manager', 2),\n",
       " ('Research', 'Senior Engineer', 2570),\n",
       " ('Research', 'Senior Staff', 3295),\n",
       " ('Research', 'Staff', 13494),\n",
       " ('Research', 'Technique Leader', 393),\n",
       " ('Sales', 'Manager', 2),\n",
       " ('Sales', 'Senior Staff', 10437),\n",
       " ('Sales', 'Staff', 41806)]"
      ]
     },
     "execution_count": 12,
     "metadata": {},
     "output_type": "execute_result"
    }
   ],
   "source": [
    "%%sql\n",
    "\n",
    "Select dept_name, title, count() as count_emp\n",
    "from employees e\n",
    "join dept_emp d on e.emp_no = d.emp_no\n",
    "group by dept_name, title"
   ]
  },
  {
   "cell_type": "code",
   "execution_count": null,
   "metadata": {},
   "outputs": [],
   "source": []
  }
 ],
 "metadata": {
  "hide_input": false,
  "kernelspec": {
   "display_name": "Python 3 (ipykernel)",
   "language": "python",
   "name": "python3"
  },
  "language_info": {
   "codemirror_mode": {
    "name": "ipython",
    "version": 3
   },
   "file_extension": ".py",
   "mimetype": "text/x-python",
   "name": "python",
   "nbconvert_exporter": "python",
   "pygments_lexer": "ipython3",
   "version": "3.10.7"
  },
  "toc": {
   "base_numbering": 1,
   "nav_menu": {},
   "number_sections": true,
   "sideBar": true,
   "skip_h1_title": false,
   "title_cell": "Table of Contents",
   "title_sidebar": "Contents",
   "toc_cell": false,
   "toc_position": {},
   "toc_section_display": true,
   "toc_window_display": false
  }
 },
 "nbformat": 4,
 "nbformat_minor": 4
}
